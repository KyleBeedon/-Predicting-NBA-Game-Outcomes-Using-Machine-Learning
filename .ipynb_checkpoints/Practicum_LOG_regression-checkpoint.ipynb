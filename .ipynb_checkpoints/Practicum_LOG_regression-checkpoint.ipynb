{
 "cells": [
  {
   "cell_type": "markdown",
   "id": "d24c04b0-151f-4b83-bfc6-cb337bb9ad62",
   "metadata": {},
   "source": [
    "<div style=\"text-align: center; font-size: 40px;\">\n",
    "Perdicting NBA Outcomes from Statistics\n",
    "</div>\n",
    "<div style=\"text-align: center; font-size: 30px;\">\n",
    "Kyle Beedon\n",
    "</div>"
   ]
  },
  {
   "cell_type": "markdown",
   "id": "28230bde-4590-419c-8c43-f5f6dc1281fa",
   "metadata": {},
   "source": [
    "## **Abstract**: \n",
    "WRITE after data collection is fixed"
   ]
  },
  {
   "cell_type": "code",
   "execution_count": 25,
   "id": "e2abb7a0-bcf7-43c1-8c50-64e702934839",
   "metadata": {},
   "outputs": [],
   "source": [
    "import pandas as pd\n",
    "import numpy as np\n",
    "import matplotlib.pyplot as plt\n",
    "import statsmodels.api as sm\n",
    "\n",
    "from sklearn.model_selection import train_test_split, cross_val_score, KFold, StratifiedKFold, GridSearchCV, RandomizedSearchCV\n",
    "from sklearn.linear_model import LogisticRegression\n",
    "from sklearn.metrics import accuracy_score, classification_report, confusion_matrix\n",
    "from sklearn.feature_selection import RFE\n",
    "from sklearn.preprocessing import StandardScaler\n",
    "from sklearn.ensemble import RandomForestClassifier\n",
    "from sklearn.svm import SVC\n",
    "from scipy.stats import randint"
   ]
  },
  {
   "cell_type": "markdown",
   "id": "2c300774-9789-4ba1-b407-b3cc1a408e59",
   "metadata": {},
   "source": [
    "## **1. Introduction**:\n",
    "The National Basketball Association (NBA) generates significant annual revenues and has a passionate fanbase. With 30 teams playing 82 games each season, fans and analysts are keen to predict game outcomes, especially for betting purposes. An effective model that could accurately predict game outcomes could provide fans with an edge over the sports betting industry.\n",
    "\n",
    "Each NBA game typically has a favorite, whether it’s the home team, the team with a better record, or a team dealing with less injuries. Key factors influencing predictions are team dynamics and player availability, but the most crucial aspect is a team's recent statistical performance. Recent performance can uncover trends that influence game outcomes. A model would need to be more than 60% accurate to be considered reliable, as favorites typically win 60% of the time on average.\n",
    "\n",
    "To gather data, I used Python to automate web scraping from basketball-reference.com, a reliable source offering detailed data from every NBA game since the 1940s. This data was loaded into R and manipulated using dplyr and tidyverse for efficiency. The dataset focused on recent statistics, excluding outdated data that could skew predictions, such as pre-three-point era stats. It included 10,748 games from 2016 onward, with data on every team, the game outcome, and recorded statistics.\n",
    "\n",
    "Key metrics for analysis included Offensive and Defensive Ratings, Field Goal Percentage (FG%), Three-Point Percentage (3P%), Free Throw Percentage (FT%), Turnover Percentage (Turnover %), and Offensive Rebound Percentage (ORB%). The final dataset treated each season as a fresh start, using previous game averages to predict future outcomes. **For early games, season averages from the previous year were used, while later games relied on averages from the most recent n games, joined by the gameID for comparison.** (TAKE OUT)"
   ]
  },
  {
   "cell_type": "markdown",
   "id": "8d4dc53b-2ea2-4415-be49-d47e38787fc1",
   "metadata": {},
   "source": [
    "## **2. Literature Review**:\n",
    "For this project, I will implement a train-test split for all the box scores and standardize the data. I will then train several different models, including logistic regression, random forest classifier, and support vector classifier (SVM).\n",
    "\n",
    "Logistic regression is the simplest of these models, designed to predict a binary outcome (such as win or loss) using a decision boundary at 0.5. A random forest is an ensemble of decision trees, where each tree is trained on a random subset of the data and features. This reduces overfitting by averaging the predictions of many trees, which enhances accuracy and generalization. The support vector classifier (SVM) works by finding a hyperplane that best separates the data into different classes. It is effective for high-dimensional data and can handle complex relationships by using kernel functions to transform the data into higher dimensions.\n",
    "\n",
    "These three models—logistic regression, random forest, and SVM—are particularly suitable for our data, as they can handle both linear and non-linear relationships, manage large feature spaces, and offer various ways to improve accuracy, making them versatile for predicting NBA game outcomes based on box score statistics.\n",
    "\n",
    "Once the models are trained, we will assess their efficiency using various metrics. A confusion matrix will help visualize the number of false positives, false negatives, true positives, and true negatives. This, along with standard model accuracy, will provide insight into model performance. Additionally, the matrix will allow us to evaluate other important metrics such as precision, recall, and F1 score.\n",
    "\n",
    "In examining similar projects that predict NBA outcomes, different methodologies and model accuracies have been explored, but several key approaches remain consistent.\n",
    "\n",
    "Matthew Houde’s thesis applies the CRISP-DM methodology to predict NBA game outcomes. He scrapes data from nba.com, extracting key statistics such as win percentage, field goal percentage, and advanced metrics like offensive rating and true shooting percentage. After cleaning and organizing the data, he performs exploratory data analysis (EDA) to identify influential features. Houde then engineers additional features, including team Elo rating and recent performance, and splits the dataset for training and testing. He evaluates six machine learning models (logistic regression, random forest classifier, k-nearest neighbors classifier, support vector classifier, Gaussian Naive Bayes, and XGBoost classifier) to predict game outcomes. His Gaussian Naive Bayes model achieved the highest accuracy of 65.1%. He used data from the 2018-2021 seasons and employed an Elo rating system based on the last 10 games and win percentage. All other statistics were based on teams’ averages for the season prior to each game. The Elo score started at a median of 1500 and was adjusted based on factors such as upsets and home victories.\n",
    "\n",
    "Josh Weiner scraped player and team data from Synergy Sports and combined it into two large dataframes. For feature engineering, he implemented an Elo rating similar to Houde’s, but with a distinction: not all wins were given equal weight. For instance, a win against a weaker team had less impact on the Elo rating compared to an upset or road win. He also implemented a method using stats from the last 10 games (similar to Houde’s work). Additionally, Weiner created features based on recent player performance and season-long performance, including player efficiency ratings. He used an 80:20 train-test split, applied logistic regression, and initially achieved a testing accuracy of 66.95%. After cross-validation, he implemented a random forest classifier, achieving the same initial accuracy of 66.95%. After performing a randomized search for hyperparameter tuning, his model’s accuracy improved to 67.15%.\n",
    "\n",
    "There are several algorithms to choose from, and based on past projects, we would consider any model with an accuracy above 65% as successful. Models predicting NBA outcomes with accuracy above 70% are considered exceptional, while an accuracy in the 60-65% range is generally acceptable. Now, let's dive into the methodology used in this project."
   ]
  },
  {
   "cell_type": "markdown",
   "id": "969dbe93-80b4-47ea-aac4-96fa1bfb4ad2",
   "metadata": {},
   "source": [
    "## **3. Methodology**:\n",
    "In this section, we will walk through the step-by-step process of this project, including feature selection, model building, result interpretation, and analysis.\n",
    "\n",
    "### a) Data Selection:\n",
    "Choosing the value of n was a significant consideration in this project. **The parameter n defines the number of games for which all features reflect the mean statistics from the previous season. While this approach is not ideal, it becomes necessary when there aren’t enough games in the current season to assess a team’s consistent performance accurately.** (TAKE OUT)\n",
    "\n",
    "I experimented with different values of n, ranging from 5 to 25, and evaluated the accuracy of a logistic regression model for each. Ultimately, the value of n that yielded the best performance was 15.\n",
    "\n",
    "**This means the dataset will use averages from each team’s last 15 games.** For games occurring before the 15th game of the season, the features will default to the mean statistics from the previous season."
   ]
  },
  {
   "cell_type": "code",
   "execution_count": 26,
   "id": "2821ac70-38f4-4f7f-b853-d33f47870c3b",
   "metadata": {},
   "outputs": [],
   "source": [
    "#box_scores = pd.read_csv(\"DATA/box_scores_using_szn/FINAL_boxscores_dataset.csv\")\n",
    "box_scores = pd.read_csv(\"DATA/Dataset.csv\")"
   ]
  },
  {
   "cell_type": "code",
   "execution_count": 27,
   "id": "9a9ce199-b7ba-4e29-afa8-e8f579ae0f73",
   "metadata": {},
   "outputs": [
    {
     "name": "stdout",
     "output_type": "stream",
     "text": [
      "Index(['season', 'date', 'team.x', 'game_number.x', 'home.x', 'result',\n",
      "       'back_to_back.x', 'eFG%.x', 'FT%.x', 'ORB%.x', 'DRB%.x', 'NET_rating.x',\n",
      "       'win%.x', 'team.y', 'game_number.y', 'back_to_back.y', 'eFG%.y',\n",
      "       'FT%.y', 'ORB%.y', 'DRB%.y', 'NET_rating.y', 'win%.y'],\n",
      "      dtype='object')\n"
     ]
    }
   ],
   "source": [
    "print(box_scores.columns)"
   ]
  },
  {
   "cell_type": "code",
   "execution_count": 28,
   "id": "0ae4c9de-4d7d-4cd4-8fc3-b2df14d4bd82",
   "metadata": {},
   "outputs": [
    {
     "name": "stdout",
     "output_type": "stream",
     "text": [
      "  team.x  game_number.x  home.x result  back_to_back.x    eFG%.x      FT%.x  \\\n",
      "0    ATL              1       1      L               0  0.526944  77.752161   \n",
      "1    CHI              1       1      W               0  0.488966  78.277697   \n",
      "2    GSW              1       1      W               0  0.539653  76.828555   \n",
      "3    BOS              1       1      W               0  0.488559  75.446961   \n",
      "4    BRK              1       1      L               0  0.490814  74.793616   \n",
      "\n",
      "   ORB%.x  DRB%.x  NET_rating.x    win%.x team.y  game_number.y  \\\n",
      "0  21.369  73.363      5.762601  0.731707    DET              1   \n",
      "1  26.961  74.354      3.200949  0.609756    CLE              1   \n",
      "2  24.076  74.504     10.249311  0.817073    NOP              1   \n",
      "3  24.715  75.042      0.163742  0.487805    PHI              1   \n",
      "4  23.865  73.709     -3.064797  0.463415    CHI              2   \n",
      "\n",
      "   back_to_back.y    eFG%.y      FT%.y  ORB%.y  DRB%.y  NET_rating.y    win%.y  \n",
      "0               0  0.482026  70.293798  27.724  74.993     -1.069369  0.390244  \n",
      "1               0  0.519662  75.129266  26.810  74.693      4.822486  0.646341  \n",
      "2               0  0.500515  75.139665  27.077  75.079      0.863273  0.548780  \n",
      "3               0  0.459053  67.588326  25.529  72.957     -9.315684  0.219512  \n",
      "4               1  0.465517  69.565217  15.217  78.431      2.000652  1.000000  \n",
      "team.x            0\n",
      "game_number.x     0\n",
      "home.x            0\n",
      "result            0\n",
      "back_to_back.x    0\n",
      "eFG%.x            0\n",
      "FT%.x             0\n",
      "ORB%.x            0\n",
      "DRB%.x            0\n",
      "NET_rating.x      0\n",
      "win%.x            0\n",
      "team.y            0\n",
      "game_number.y     0\n",
      "back_to_back.y    0\n",
      "eFG%.y            0\n",
      "FT%.y             0\n",
      "ORB%.y            0\n",
      "DRB%.y            0\n",
      "NET_rating.y      0\n",
      "win%.y            0\n",
      "dtype: int64\n"
     ]
    }
   ],
   "source": [
    "irrelevant_columns = [\"season\", \"date\"]\n",
    "#    \"gameId\",\"team.x\", \"Date.x\", \n",
    "#    \"team.y\", \"game_number.y\", \"outcome.y\"\n",
    "\n",
    "# Drop irrelevant columns for model building\n",
    "data = box_scores.drop(columns=irrelevant_columns)\n",
    "\n",
    "#print(data.head())\n",
    "# print(box_scores.isnull().sum()) # There are 0 null value in this dataset\n",
    "print(data.head())\n",
    "print(data.isnull().sum())"
   ]
  },
  {
   "cell_type": "markdown",
   "id": "805693a8-e121-4b41-8c7a-57205c10531d",
   "metadata": {},
   "source": [
    "Our focus is on outcome.x as the response variable, which is why we exclude outcome.y. Additionally, we drop all non-numerical features that do not contribute meaningful information. For instance, we assume that the date and season have no impact on determining the outcome of a given game. Similarly, we avoid encoding team names, as the model is designed to remain objective and blind to team identities. Instead, the emphasis is placed entirely on a team’s recent performance and, **for games within the first 15 of a season, the performance from the previous season.** (TAKE out)"
   ]
  },
  {
   "cell_type": "markdown",
   "id": "247908e9-d94b-4f8b-b244-7caa9c460f55",
   "metadata": {},
   "source": [
    "### b) Train-Test-Split and Standardization\n",
    "\n",
    "Next, we create the training and testing datasets using an 80/20 split. The target variable, outcome.x, is separated from the feature dataset X and stored in y. To ensure consistent scaling across all numerical features, we standardize them using the StandardScaler from sklearn.preprocessing.\n",
    "\n"
   ]
  },
  {
   "cell_type": "code",
   "execution_count": 34,
   "id": "4d706cb3-2dce-449b-b50e-4250b991e86c",
   "metadata": {},
   "outputs": [],
   "source": [
    "# Drop the 'result' column to get features\n",
    "X = data.drop(columns=['result'])\n",
    "\n",
    "# Keep only 'game_number.x' and 'game_number.y' unscaled\n",
    "unscaled_feature = X[['game_number.x', 'game_number.y']]\n",
    "\n",
    "# Drop unscaled and unwanted features from those to scale\n",
    "features_to_scale = X.drop(columns=['game_number.x', 'game_number.y', 'team.x', 'team.y'])\n",
    "\n",
    "# Standardize the remaining features\n",
    "scaler = StandardScaler()\n",
    "scaled_features = scaler.fit_transform(features_to_scale)\n",
    "\n",
    "# Reconstruct a DataFrame from scaled features\n",
    "X_standardized_df = pd.DataFrame(scaled_features, columns=features_to_scale.columns)\n",
    "\n",
    "# Add back only the game_number columns (not team.x / team.y)\n",
    "X_standardized_df[['game_number.x', 'game_number.y']] = unscaled_feature.reset_index(drop=True)\n",
    "\n",
    "# Define the target variable\n",
    "y = data['result']\n",
    "\n",
    "# Train-test split (80-20)\n",
    "X_train, X_test, y_train, y_test = train_test_split(X_standardized_df, y, test_size=0.2, random_state=42)"
   ]
  },
  {
   "cell_type": "markdown",
   "id": "573aa8a5-a76c-4908-ac12-bcebdb7e3b68",
   "metadata": {},
   "source": [
    "### c) Logistic regression model\n",
    "\n",
    "Now we fit a logistic regression model. We begin by applying Recursive Feature Elimination (RFE) for feature selection, identifying the most impactful features. Using the dataset with the selected features, we train the model, evaluate its performance on the test data, and analyze the results.\n",
    "\n",
    "After running the model multiple times with different values for the number of features to select, I found that selecting 11 features yielded the highest improvement in model accuracy."
   ]
  },
  {
   "cell_type": "code",
   "execution_count": 35,
   "id": "e16189a6-253d-4f4f-9650-9444da35c286",
   "metadata": {},
   "outputs": [
    {
     "data": {
      "image/png": "[encoded data removed]",
      "text/plain": [
       "<Figure size 1000x600 with 1 Axes>"
      ]
     },
     "metadata": {},
     "output_type": "display_data"
    }
   ],
   "source": [
    "# Fit logistic regression model on training data\n",
    "model = LogisticRegression(max_iter=10000)\n",
    "\n",
    "# Recursive Feature Elimination (RFE) for feature selection\n",
    "selector = RFE(model, n_features_to_select=11)  # 11 features maximizes model success\n",
    "X_train_rfe = selector.fit_transform(X_train, y_train)\n",
    "\n",
    "# Fit the model\n",
    "model.fit(X_train_rfe, y_train)\n",
    "\n",
    "# Find model coefficients for the selected features\n",
    "selected_features = X_train.columns[selector.support_]  # Get the selected features\n",
    "coefficients = pd.DataFrame(model.coef_[0], selected_features, columns=['Coefficient'])\n",
    "\n",
    "# Visualize the coefficients for the selected features\n",
    "plt.figure(figsize=(10, 6))\n",
    "coefficients['Coefficient'].sort_values().plot(kind='barh')\n",
    "plt.xlabel('Coefficient Value')\n",
    "plt.title('Feature Importance Based on Logistic Regression Coefficients (After RFE)')\n",
    "plt.show()"
   ]
  },
  {
   "cell_type": "markdown",
   "id": "82316b2d-f1ae-41ab-b2ee-f105b2b1e820",
   "metadata": {},
   "source": [
    "In this graph, we can observe the features selected by RFE. The features with the highest positive coefficients include home.x, off_rating.x, count_w.x, def_rating.y, and back_to_back.y, indicating that these factors strongly contribute to a positive prediction for the .x team. Conversely, features with the most negative coefficients include back_to_back.x, opp_3p%.y, off_rating.y, def_rating.x, and count_w.y, suggesting a negative impact on the likelihood of the .x team winning.\n",
    "\n",
    "Our target variable is outcome.x, meaning we are predicting whether the .x team will win. If the target variable were switched to outcome.y, we would expect the signs of these coefficients to flip entirely.\n",
    "\n",
    "The selected features reveal several insights: the home advantage (home.x) plays a crucial role, recent success in games (count_w) significantly influences predictions, and whether a team is rested, as indicated by the back_to_back variable, also holds importance. Additionally, the most critical statistics appear to be off_rating and def_rating, highlighting the significance of offensive and defensive efficiency in predicting game outcomes."
   ]
  },
  {
   "cell_type": "code",
   "execution_count": 36,
   "id": "b4387e6c-9822-49e9-b062-f55b1dfb51bc",
   "metadata": {},
   "outputs": [
    {
     "name": "stderr",
     "output_type": "stream",
     "text": [
      "/Users/kylebeedon/opt/anaconda3/lib/python3.9/site-packages/sklearn/base.py:486: UserWarning: X has feature names, but LogisticRegression was fitted without feature names\n",
      "  warnings.warn(\n"
     ]
    },
    {
     "name": "stdout",
     "output_type": "stream",
     "text": [
      "Model Accuracy: 0.6407\n",
      "\n",
      "Confusion Matrix:\n",
      "[[711 446]\n",
      " [415 824]]\n",
      "\n",
      "Classification Report:\n",
      "              precision    recall  f1-score   support\n",
      "\n",
      "           L       0.63      0.61      0.62      1157\n",
      "           W       0.65      0.67      0.66      1239\n",
      "\n",
      "    accuracy                           0.64      2396\n",
      "   macro avg       0.64      0.64      0.64      2396\n",
      "weighted avg       0.64      0.64      0.64      2396\n",
      "\n"
     ]
    },
    {
     "ename": "ValueError",
     "evalue": "Pandas data cast to numpy dtype of object. Check input data with np.asarray(data).",
     "output_type": "error",
     "traceback": [
      "\u001b[0;31m---------------------------------------------------------------------------\u001b[0m",
      "\u001b[0;31mValueError\u001b[0m                                Traceback (most recent call last)",
      "Cell \u001b[0;32mIn[36], line 17\u001b[0m\n\u001b[1;32m     14\u001b[0m \u001b[38;5;66;03m# Statistical Summary (using Statsmodels Logit for p-values)\u001b[39;00m\n\u001b[1;32m     15\u001b[0m \u001b[38;5;66;03m# Add constant to the features (intercept)\u001b[39;00m\n\u001b[1;32m     16\u001b[0m X_train_const \u001b[38;5;241m=\u001b[39m sm\u001b[38;5;241m.\u001b[39madd_constant(X_train_rfe)  \u001b[38;5;66;03m# Add intercept for statsmodels\u001b[39;00m\n\u001b[0;32m---> 17\u001b[0m logit_model \u001b[38;5;241m=\u001b[39m \u001b[43msm\u001b[49m\u001b[38;5;241;43m.\u001b[39;49m\u001b[43mLogit\u001b[49m\u001b[43m(\u001b[49m\u001b[43my_train\u001b[49m\u001b[43m,\u001b[49m\u001b[43m \u001b[49m\u001b[43mX_train_const\u001b[49m\u001b[43m)\u001b[49m\n\u001b[1;32m     19\u001b[0m \u001b[38;5;66;03m# Fit the model\u001b[39;00m\n\u001b[1;32m     20\u001b[0m result \u001b[38;5;241m=\u001b[39m logit_model\u001b[38;5;241m.\u001b[39mfit()\n",
      "File \u001b[0;32m~/opt/anaconda3/lib/python3.9/site-packages/statsmodels/discrete/discrete_model.py:475\u001b[0m, in \u001b[0;36mBinaryModel.__init__\u001b[0;34m(self, endog, exog, offset, check_rank, **kwargs)\u001b[0m\n\u001b[1;32m    472\u001b[0m \u001b[38;5;28;01mdef\u001b[39;00m \u001b[38;5;21m__init__\u001b[39m(\u001b[38;5;28mself\u001b[39m, endog, exog, offset\u001b[38;5;241m=\u001b[39m\u001b[38;5;28;01mNone\u001b[39;00m, check_rank\u001b[38;5;241m=\u001b[39m\u001b[38;5;28;01mTrue\u001b[39;00m, \u001b[38;5;241m*\u001b[39m\u001b[38;5;241m*\u001b[39mkwargs):\n\u001b[1;32m    473\u001b[0m     \u001b[38;5;66;03m# unconditional check, requires no extra kwargs added by subclasses\u001b[39;00m\n\u001b[1;32m    474\u001b[0m     \u001b[38;5;28mself\u001b[39m\u001b[38;5;241m.\u001b[39m_check_kwargs(kwargs)\n\u001b[0;32m--> 475\u001b[0m     \u001b[38;5;28;43msuper\u001b[39;49m\u001b[43m(\u001b[49m\u001b[43m)\u001b[49m\u001b[38;5;241;43m.\u001b[39;49m\u001b[38;5;21;43m__init__\u001b[39;49m\u001b[43m(\u001b[49m\u001b[43mendog\u001b[49m\u001b[43m,\u001b[49m\u001b[43m \u001b[49m\u001b[43mexog\u001b[49m\u001b[43m,\u001b[49m\u001b[43m \u001b[49m\u001b[43moffset\u001b[49m\u001b[38;5;241;43m=\u001b[39;49m\u001b[43moffset\u001b[49m\u001b[43m,\u001b[49m\u001b[43m \u001b[49m\u001b[43mcheck_rank\u001b[49m\u001b[38;5;241;43m=\u001b[39;49m\u001b[43mcheck_rank\u001b[49m\u001b[43m,\u001b[49m\n\u001b[1;32m    476\u001b[0m \u001b[43m                     \u001b[49m\u001b[38;5;241;43m*\u001b[39;49m\u001b[38;5;241;43m*\u001b[39;49m\u001b[43mkwargs\u001b[49m\u001b[43m)\u001b[49m\n\u001b[1;32m    477\u001b[0m     \u001b[38;5;28;01mif\u001b[39;00m \u001b[38;5;129;01mnot\u001b[39;00m \u001b[38;5;28missubclass\u001b[39m(\u001b[38;5;28mself\u001b[39m\u001b[38;5;241m.\u001b[39m\u001b[38;5;18m__class__\u001b[39m, MultinomialModel):\n\u001b[1;32m    478\u001b[0m         \u001b[38;5;28;01mif\u001b[39;00m \u001b[38;5;129;01mnot\u001b[39;00m np\u001b[38;5;241m.\u001b[39mall((\u001b[38;5;28mself\u001b[39m\u001b[38;5;241m.\u001b[39mendog \u001b[38;5;241m>\u001b[39m\u001b[38;5;241m=\u001b[39m \u001b[38;5;241m0\u001b[39m) \u001b[38;5;241m&\u001b[39m (\u001b[38;5;28mself\u001b[39m\u001b[38;5;241m.\u001b[39mendog \u001b[38;5;241m<\u001b[39m\u001b[38;5;241m=\u001b[39m \u001b[38;5;241m1\u001b[39m)):\n",
      "File \u001b[0;32m~/opt/anaconda3/lib/python3.9/site-packages/statsmodels/discrete/discrete_model.py:185\u001b[0m, in \u001b[0;36mDiscreteModel.__init__\u001b[0;34m(self, endog, exog, check_rank, **kwargs)\u001b[0m\n\u001b[1;32m    183\u001b[0m \u001b[38;5;28;01mdef\u001b[39;00m \u001b[38;5;21m__init__\u001b[39m(\u001b[38;5;28mself\u001b[39m, endog, exog, check_rank\u001b[38;5;241m=\u001b[39m\u001b[38;5;28;01mTrue\u001b[39;00m, \u001b[38;5;241m*\u001b[39m\u001b[38;5;241m*\u001b[39mkwargs):\n\u001b[1;32m    184\u001b[0m     \u001b[38;5;28mself\u001b[39m\u001b[38;5;241m.\u001b[39m_check_rank \u001b[38;5;241m=\u001b[39m check_rank\n\u001b[0;32m--> 185\u001b[0m     \u001b[38;5;28;43msuper\u001b[39;49m\u001b[43m(\u001b[49m\u001b[43m)\u001b[49m\u001b[38;5;241;43m.\u001b[39;49m\u001b[38;5;21;43m__init__\u001b[39;49m\u001b[43m(\u001b[49m\u001b[43mendog\u001b[49m\u001b[43m,\u001b[49m\u001b[43m \u001b[49m\u001b[43mexog\u001b[49m\u001b[43m,\u001b[49m\u001b[43m \u001b[49m\u001b[38;5;241;43m*\u001b[39;49m\u001b[38;5;241;43m*\u001b[39;49m\u001b[43mkwargs\u001b[49m\u001b[43m)\u001b[49m\n\u001b[1;32m    186\u001b[0m     \u001b[38;5;28mself\u001b[39m\u001b[38;5;241m.\u001b[39mraise_on_perfect_prediction \u001b[38;5;241m=\u001b[39m \u001b[38;5;28;01mFalse\u001b[39;00m  \u001b[38;5;66;03m# keep for backwards compat\u001b[39;00m\n\u001b[1;32m    187\u001b[0m     \u001b[38;5;28mself\u001b[39m\u001b[38;5;241m.\u001b[39mk_extra \u001b[38;5;241m=\u001b[39m \u001b[38;5;241m0\u001b[39m\n",
      "File \u001b[0;32m~/opt/anaconda3/lib/python3.9/site-packages/statsmodels/base/model.py:270\u001b[0m, in \u001b[0;36mLikelihoodModel.__init__\u001b[0;34m(self, endog, exog, **kwargs)\u001b[0m\n\u001b[1;32m    269\u001b[0m \u001b[38;5;28;01mdef\u001b[39;00m \u001b[38;5;21m__init__\u001b[39m(\u001b[38;5;28mself\u001b[39m, endog, exog\u001b[38;5;241m=\u001b[39m\u001b[38;5;28;01mNone\u001b[39;00m, \u001b[38;5;241m*\u001b[39m\u001b[38;5;241m*\u001b[39mkwargs):\n\u001b[0;32m--> 270\u001b[0m     \u001b[38;5;28;43msuper\u001b[39;49m\u001b[43m(\u001b[49m\u001b[43m)\u001b[49m\u001b[38;5;241;43m.\u001b[39;49m\u001b[38;5;21;43m__init__\u001b[39;49m\u001b[43m(\u001b[49m\u001b[43mendog\u001b[49m\u001b[43m,\u001b[49m\u001b[43m \u001b[49m\u001b[43mexog\u001b[49m\u001b[43m,\u001b[49m\u001b[43m \u001b[49m\u001b[38;5;241;43m*\u001b[39;49m\u001b[38;5;241;43m*\u001b[39;49m\u001b[43mkwargs\u001b[49m\u001b[43m)\u001b[49m\n\u001b[1;32m    271\u001b[0m     \u001b[38;5;28mself\u001b[39m\u001b[38;5;241m.\u001b[39minitialize()\n",
      "File \u001b[0;32m~/opt/anaconda3/lib/python3.9/site-packages/statsmodels/base/model.py:95\u001b[0m, in \u001b[0;36mModel.__init__\u001b[0;34m(self, endog, exog, **kwargs)\u001b[0m\n\u001b[1;32m     93\u001b[0m missing \u001b[38;5;241m=\u001b[39m kwargs\u001b[38;5;241m.\u001b[39mpop(\u001b[38;5;124m'\u001b[39m\u001b[38;5;124mmissing\u001b[39m\u001b[38;5;124m'\u001b[39m, \u001b[38;5;124m'\u001b[39m\u001b[38;5;124mnone\u001b[39m\u001b[38;5;124m'\u001b[39m)\n\u001b[1;32m     94\u001b[0m hasconst \u001b[38;5;241m=\u001b[39m kwargs\u001b[38;5;241m.\u001b[39mpop(\u001b[38;5;124m'\u001b[39m\u001b[38;5;124mhasconst\u001b[39m\u001b[38;5;124m'\u001b[39m, \u001b[38;5;28;01mNone\u001b[39;00m)\n\u001b[0;32m---> 95\u001b[0m \u001b[38;5;28mself\u001b[39m\u001b[38;5;241m.\u001b[39mdata \u001b[38;5;241m=\u001b[39m \u001b[38;5;28;43mself\u001b[39;49m\u001b[38;5;241;43m.\u001b[39;49m\u001b[43m_handle_data\u001b[49m\u001b[43m(\u001b[49m\u001b[43mendog\u001b[49m\u001b[43m,\u001b[49m\u001b[43m \u001b[49m\u001b[43mexog\u001b[49m\u001b[43m,\u001b[49m\u001b[43m \u001b[49m\u001b[43mmissing\u001b[49m\u001b[43m,\u001b[49m\u001b[43m \u001b[49m\u001b[43mhasconst\u001b[49m\u001b[43m,\u001b[49m\n\u001b[1;32m     96\u001b[0m \u001b[43m                              \u001b[49m\u001b[38;5;241;43m*\u001b[39;49m\u001b[38;5;241;43m*\u001b[39;49m\u001b[43mkwargs\u001b[49m\u001b[43m)\u001b[49m\n\u001b[1;32m     97\u001b[0m \u001b[38;5;28mself\u001b[39m\u001b[38;5;241m.\u001b[39mk_constant \u001b[38;5;241m=\u001b[39m \u001b[38;5;28mself\u001b[39m\u001b[38;5;241m.\u001b[39mdata\u001b[38;5;241m.\u001b[39mk_constant\n\u001b[1;32m     98\u001b[0m \u001b[38;5;28mself\u001b[39m\u001b[38;5;241m.\u001b[39mexog \u001b[38;5;241m=\u001b[39m \u001b[38;5;28mself\u001b[39m\u001b[38;5;241m.\u001b[39mdata\u001b[38;5;241m.\u001b[39mexog\n",
      "File \u001b[0;32m~/opt/anaconda3/lib/python3.9/site-packages/statsmodels/base/model.py:135\u001b[0m, in \u001b[0;36mModel._handle_data\u001b[0;34m(self, endog, exog, missing, hasconst, **kwargs)\u001b[0m\n\u001b[1;32m    134\u001b[0m \u001b[38;5;28;01mdef\u001b[39;00m \u001b[38;5;21m_handle_data\u001b[39m(\u001b[38;5;28mself\u001b[39m, endog, exog, missing, hasconst, \u001b[38;5;241m*\u001b[39m\u001b[38;5;241m*\u001b[39mkwargs):\n\u001b[0;32m--> 135\u001b[0m     data \u001b[38;5;241m=\u001b[39m \u001b[43mhandle_data\u001b[49m\u001b[43m(\u001b[49m\u001b[43mendog\u001b[49m\u001b[43m,\u001b[49m\u001b[43m \u001b[49m\u001b[43mexog\u001b[49m\u001b[43m,\u001b[49m\u001b[43m \u001b[49m\u001b[43mmissing\u001b[49m\u001b[43m,\u001b[49m\u001b[43m \u001b[49m\u001b[43mhasconst\u001b[49m\u001b[43m,\u001b[49m\u001b[43m \u001b[49m\u001b[38;5;241;43m*\u001b[39;49m\u001b[38;5;241;43m*\u001b[39;49m\u001b[43mkwargs\u001b[49m\u001b[43m)\u001b[49m\n\u001b[1;32m    136\u001b[0m     \u001b[38;5;66;03m# kwargs arrays could have changed, easier to just attach here\u001b[39;00m\n\u001b[1;32m    137\u001b[0m     \u001b[38;5;28;01mfor\u001b[39;00m key \u001b[38;5;129;01min\u001b[39;00m kwargs:\n",
      "File \u001b[0;32m~/opt/anaconda3/lib/python3.9/site-packages/statsmodels/base/data.py:675\u001b[0m, in \u001b[0;36mhandle_data\u001b[0;34m(endog, exog, missing, hasconst, **kwargs)\u001b[0m\n\u001b[1;32m    672\u001b[0m     exog \u001b[38;5;241m=\u001b[39m np\u001b[38;5;241m.\u001b[39masarray(exog)\n\u001b[1;32m    674\u001b[0m klass \u001b[38;5;241m=\u001b[39m handle_data_class_factory(endog, exog)\n\u001b[0;32m--> 675\u001b[0m \u001b[38;5;28;01mreturn\u001b[39;00m \u001b[43mklass\u001b[49m\u001b[43m(\u001b[49m\u001b[43mendog\u001b[49m\u001b[43m,\u001b[49m\u001b[43m \u001b[49m\u001b[43mexog\u001b[49m\u001b[38;5;241;43m=\u001b[39;49m\u001b[43mexog\u001b[49m\u001b[43m,\u001b[49m\u001b[43m \u001b[49m\u001b[43mmissing\u001b[49m\u001b[38;5;241;43m=\u001b[39;49m\u001b[43mmissing\u001b[49m\u001b[43m,\u001b[49m\u001b[43m \u001b[49m\u001b[43mhasconst\u001b[49m\u001b[38;5;241;43m=\u001b[39;49m\u001b[43mhasconst\u001b[49m\u001b[43m,\u001b[49m\n\u001b[1;32m    676\u001b[0m \u001b[43m             \u001b[49m\u001b[38;5;241;43m*\u001b[39;49m\u001b[38;5;241;43m*\u001b[39;49m\u001b[43mkwargs\u001b[49m\u001b[43m)\u001b[49m\n",
      "File \u001b[0;32m~/opt/anaconda3/lib/python3.9/site-packages/statsmodels/base/data.py:84\u001b[0m, in \u001b[0;36mModelData.__init__\u001b[0;34m(self, endog, exog, missing, hasconst, **kwargs)\u001b[0m\n\u001b[1;32m     82\u001b[0m     \u001b[38;5;28mself\u001b[39m\u001b[38;5;241m.\u001b[39morig_endog \u001b[38;5;241m=\u001b[39m endog\n\u001b[1;32m     83\u001b[0m     \u001b[38;5;28mself\u001b[39m\u001b[38;5;241m.\u001b[39morig_exog \u001b[38;5;241m=\u001b[39m exog\n\u001b[0;32m---> 84\u001b[0m     \u001b[38;5;28mself\u001b[39m\u001b[38;5;241m.\u001b[39mendog, \u001b[38;5;28mself\u001b[39m\u001b[38;5;241m.\u001b[39mexog \u001b[38;5;241m=\u001b[39m \u001b[38;5;28;43mself\u001b[39;49m\u001b[38;5;241;43m.\u001b[39;49m\u001b[43m_convert_endog_exog\u001b[49m\u001b[43m(\u001b[49m\u001b[43mendog\u001b[49m\u001b[43m,\u001b[49m\u001b[43m \u001b[49m\u001b[43mexog\u001b[49m\u001b[43m)\u001b[49m\n\u001b[1;32m     86\u001b[0m \u001b[38;5;28mself\u001b[39m\u001b[38;5;241m.\u001b[39mconst_idx \u001b[38;5;241m=\u001b[39m \u001b[38;5;28;01mNone\u001b[39;00m\n\u001b[1;32m     87\u001b[0m \u001b[38;5;28mself\u001b[39m\u001b[38;5;241m.\u001b[39mk_constant \u001b[38;5;241m=\u001b[39m \u001b[38;5;241m0\u001b[39m\n",
      "File \u001b[0;32m~/opt/anaconda3/lib/python3.9/site-packages/statsmodels/base/data.py:509\u001b[0m, in \u001b[0;36mPandasData._convert_endog_exog\u001b[0;34m(self, endog, exog)\u001b[0m\n\u001b[1;32m    507\u001b[0m exog \u001b[38;5;241m=\u001b[39m exog \u001b[38;5;28;01mif\u001b[39;00m exog \u001b[38;5;129;01mis\u001b[39;00m \u001b[38;5;28;01mNone\u001b[39;00m \u001b[38;5;28;01melse\u001b[39;00m np\u001b[38;5;241m.\u001b[39masarray(exog)\n\u001b[1;32m    508\u001b[0m \u001b[38;5;28;01mif\u001b[39;00m endog\u001b[38;5;241m.\u001b[39mdtype \u001b[38;5;241m==\u001b[39m \u001b[38;5;28mobject\u001b[39m \u001b[38;5;129;01mor\u001b[39;00m exog \u001b[38;5;129;01mis\u001b[39;00m \u001b[38;5;129;01mnot\u001b[39;00m \u001b[38;5;28;01mNone\u001b[39;00m \u001b[38;5;129;01mand\u001b[39;00m exog\u001b[38;5;241m.\u001b[39mdtype \u001b[38;5;241m==\u001b[39m \u001b[38;5;28mobject\u001b[39m:\n\u001b[0;32m--> 509\u001b[0m     \u001b[38;5;28;01mraise\u001b[39;00m \u001b[38;5;167;01mValueError\u001b[39;00m(\u001b[38;5;124m\"\u001b[39m\u001b[38;5;124mPandas data cast to numpy dtype of object. \u001b[39m\u001b[38;5;124m\"\u001b[39m\n\u001b[1;32m    510\u001b[0m                      \u001b[38;5;124m\"\u001b[39m\u001b[38;5;124mCheck input data with np.asarray(data).\u001b[39m\u001b[38;5;124m\"\u001b[39m)\n\u001b[1;32m    511\u001b[0m \u001b[38;5;28;01mreturn\u001b[39;00m \u001b[38;5;28msuper\u001b[39m()\u001b[38;5;241m.\u001b[39m_convert_endog_exog(endog, exog)\n",
      "\u001b[0;31mValueError\u001b[0m: Pandas data cast to numpy dtype of object. Check input data with np.asarray(data)."
     ]
    }
   ],
   "source": [
    "# Model accuracy on the test set using the selected features\n",
    "X_test_rfe = X_test[selected_features]  # Use only the selected features for testing\n",
    "y_pred = model.predict(X_test_rfe)\n",
    "accuracy = accuracy_score(y_test, y_pred)\n",
    "print(f'Model Accuracy: {accuracy:.4f}')\n",
    "\n",
    "# Confusion Matrix and Classification Report\n",
    "print(\"\\nConfusion Matrix:\")\n",
    "print(confusion_matrix(y_test, y_pred))\n",
    "\n",
    "print(\"\\nClassification Report:\")\n",
    "print(classification_report(y_test, y_pred))\n",
    "\n",
    "# Statistical Summary (using Statsmodels Logit for p-values)\n",
    "# Add constant to the features (intercept)\n",
    "X_train_const = sm.add_constant(X_train_rfe)  # Add intercept for statsmodels\n",
    "logit_model = sm.Logit(y_train, X_train_const)\n",
    "\n",
    "# Fit the model\n",
    "result = logit_model.fit()\n",
    "\n",
    "# Create a DataFrame with the coefficient values and their corresponding feature names\n",
    "feature_names = ['const'] + list(selected_features)  # Add 'const' for the intercept term\n",
    "coefficients_summary = pd.DataFrame({\n",
    "    'Feature': feature_names,\n",
    "    'Coeff': round(result.params,3),\n",
    "    'Std Err': round(result.bse,3),\n",
    "    'z Value': round(result.tvalues,3),\n",
    "    'P-Value': round(result.pvalues,6),\n",
    "    'CI Lower': round(result.conf_int()[0],3),\n",
    "    'CI Upper': round(result.conf_int()[1],3)\n",
    "})\n",
    "\n",
    "# Print the summary\n",
    "print(\"\\nStatistical Summary from Statsmodels Logit with Feature Names:\")\n",
    "print(coefficients_summary)"
   ]
  },
  {
   "cell_type": "markdown",
   "id": "a8610689-d4f7-4b48-88c6-89f484bf8252",
   "metadata": {},
   "source": [
    "**Analysis of Logistic Regression:**\n",
    "\n",
    "The model was trained on the training data and tested on the test data, achieving an overall accuracy of 66.56%, which is a solid starting point for predicting NBA game outcomes.\n",
    "\n",
    "The confusion matrix provides insight into the model's classification performance. It correctly predicted 700 wins (true positives) and 731 losses (true negatives). However, it misclassified 362 wins as losses (false negatives) and 357 losses as wins (false positives).\n",
    "\n",
    "Precision for predicting wins (label 1) is 0.67, meaning 67% of predicted wins were correct, while recall for wins is also 0.67, indicating that 67% of actual wins were identified by the model. Similarly, for losses (label 0), both precision and recall are 0.66. The F1-scores, which balance precision and recall, are 0.67 for wins and 0.66 for losses. These metrics highlight that the model performs comparably across both classes, demonstrating reliability in predicting outcomes based on the selected features, although there is room for improvement in handling closer classifications.\n",
    "\n",
    "Additionally, all p-values for the selected features were highly significant, each falling below the standard alpha threshold of 0.05. This indicates that the features used in the model were indeed relevant, contributing meaningfully to its performance. Overall, the model provides a strong foundation for future refinement and development."
   ]
  },
  {
   "cell_type": "code",
   "execution_count": null,
   "id": "a14e3c41-4d5f-4418-b997-184824684aa4",
   "metadata": {},
   "outputs": [],
   "source": []
  },
  {
   "cell_type": "markdown",
   "id": "d3c87934-54ad-4e10-9343-d9a5f48420ca",
   "metadata": {},
   "source": [
    "Moving on to the Confusion Matrix... There are 2150 total boxscores in this dataset. There were 666 true negatives (model predicts a loss and the game was lossed for the .x team), so the model correctly predicted losses 666/2150 (find percentage) times There were 402 false negatives (model predicted a loss, but the game was won) so the model incorrectly predicted losses 402/2150 times There were 395 false positives (model predicts a win, and the game was lost) so the model incorrectly predicted wins 395/2150 times. There were 687 true positives (model predicts win, and the game was won), so the model correctly predicted wins 687/2150 (find %). There doesn't appear to be any noticiable biases. Since the model just tries to pick who will win the game, it makes sense it wouldnt be biased towards picking losses or wins.\n",
    "\n"
   ]
  },
  {
   "cell_type": "code",
   "execution_count": null,
   "id": "d93ff845-1f22-4586-9e6a-82943025438d",
   "metadata": {},
   "outputs": [],
   "source": []
  },
  {
   "cell_type": "code",
   "execution_count": null,
   "id": "edb0283d-a9a0-4874-bf3a-58c2ddbd6235",
   "metadata": {},
   "outputs": [],
   "source": []
  },
  {
   "cell_type": "code",
   "execution_count": 141,
   "id": "15b22474-c34d-472f-be91-549d1459bc36",
   "metadata": {},
   "outputs": [
    {
     "name": "stdout",
     "output_type": "stream",
     "text": [
      "Model Accuracy for game_number.x < 10: 0.6606\n",
      "\n",
      "Confusion Matrix for filtered data:\n",
      "[[602 314]\n",
      " [316 624]]\n",
      "\n",
      "Classification Report for filtered data:\n",
      "              precision    recall  f1-score   support\n",
      "\n",
      "           0       0.66      0.66      0.66       916\n",
      "           1       0.67      0.66      0.66       940\n",
      "\n",
      "    accuracy                           0.66      1856\n",
      "   macro avg       0.66      0.66      0.66      1856\n",
      "weighted avg       0.66      0.66      0.66      1856\n",
      "\n"
     ]
    },
    {
     "name": "stderr",
     "output_type": "stream",
     "text": [
      "/Users/kylebeedon/opt/anaconda3/lib/python3.9/site-packages/sklearn/base.py:486: UserWarning: X has feature names, but LogisticRegression was fitted without feature names\n",
      "  warnings.warn(\n"
     ]
    }
   ],
   "source": [
    "# Filter the test data for game_number.x < 22\n",
    "X_test_filtered = X_test[X_test['game_number.x'] >= 12]\n",
    "y_test_filtered = y_test[X_test['game_number.x'] >= 12]\n",
    "\n",
    "# Select only the features that were selected by RFE (the 10 selected features)\n",
    "X_test_filtered_rfe = X_test_filtered[selected_features]\n",
    "\n",
    "# Use the trained model to predict on the filtered data\n",
    "y_pred_filtered = model.predict(X_test_filtered_rfe)\n",
    "\n",
    "# Calculate the accuracy of the model on the filtered test data\n",
    "accuracy_filtered = accuracy_score(y_test_filtered, y_pred_filtered)\n",
    "print(f'Model Accuracy for game_number.x < 10: {accuracy_filtered:.4f}')\n",
    "\n",
    "# Optionally, print confusion matrix and classification report for the filtered data\n",
    "print(\"\\nConfusion Matrix for filtered data:\")\n",
    "print(confusion_matrix(y_test_filtered, y_pred_filtered))\n",
    "\n",
    "print(\"\\nClassification Report for filtered data:\")\n",
    "print(classification_report(y_test_filtered, y_pred_filtered))"
   ]
  },
  {
   "cell_type": "code",
   "execution_count": 142,
   "id": "2e7b119d-fff3-4fa3-abee-81b7fc4c8adf",
   "metadata": {},
   "outputs": [
    {
     "ename": "SyntaxError",
     "evalue": "invalid syntax (203267096.py, line 1)",
     "output_type": "error",
     "traceback": [
      "\u001b[0;36m  Cell \u001b[0;32mIn[142], line 1\u001b[0;36m\u001b[0m\n\u001b[0;31m    EXPLAIN YOURSELF -->\u001b[0m\n\u001b[0m            ^\u001b[0m\n\u001b[0;31mSyntaxError\u001b[0m\u001b[0;31m:\u001b[0m invalid syntax\n"
     ]
    }
   ],
   "source": [
    "EXPLAIN YOURSELF --> "
   ]
  },
  {
   "cell_type": "markdown",
   "id": "59825aa0-edaf-4abe-be9e-96c7ea80c3d0",
   "metadata": {},
   "source": [
    "Initial model accuracy of 0.636\n",
    "\n",
    "\n",
    "IDK About any of this: !!!!\n",
    "After running a simple logistic regression model with all of the features, we achieved an accuracy of 0.6274, which is a reasonable starting point. It is better than just picking the home team every time. We will look to improve this accuracy. I decided to use a train-test split as opposed to k-fold. I ran this, but got essentially the same accuracy, since it didn't improve the model, I used train-test because it is simpler.\n",
    "\n",
    "Moving on to the Confusion Matrix... There are 2150 total boxscores in this dataset. There were 666 true negatives (model predicts a loss and the game was lossed for the .x team), so the model correctly predicted losses 666/2150 (find percentage) times\n",
    "There were 402 false negatives (model predicted a loss, but the game was won) so the model incorrectly predicted losses 402/2150 times\n",
    "There were 395 false positives (model predicts a win, and the game was lost) so the model incorrectly predicted wins 395/2150 times. There were 687 true positives (model predicts win, and the game was won), so the model correctly predicted wins 687/2150 (find %). There doesn't appear to be any noticiable biases. Since the model just tries to pick who will win the game, it makes sense it wouldnt be biased towards picking losses or wins.\n",
    "\n",
    "It is interesting to look at the graphic interpretation of the features importance in the model. Some of the features don't seem to be statisitcally relevant, and others seem to have coefficients that don't make a lot of sense. It is in our best interest to implement feature selection."
   ]
  },
  {
   "cell_type": "markdown",
   "id": "3ed08d3c-17e4-4468-9822-2a4fa162800e",
   "metadata": {},
   "source": [
    "### d) Random Forest\n",
    "After achieving some success with the logistic regression model, we next implement a RandomForestClassifier to explore whether we can improve model accuracy or achieve comparable results. This model will utilize 100 trees within the forest, with the top 11 features selected through RFE. The model will be trained on the training data and evaluated on the test data. Following this, we will analyze feature importance and compare model accuracies to gain further insights."
   ]
  },
  {
   "cell_type": "code",
   "execution_count": null,
   "id": "b971db8b-6056-4f47-8bda-59a413574ff4",
   "metadata": {},
   "outputs": [
    {
     "name": "stdout",
     "output_type": "stream",
     "text": [
      "Fitting 3 folds for each of 50 candidates, totalling 150 fits\n"
     ]
    }
   ],
   "source": [
    "# Drop unwanted columns\n",
    "X_train = X_train.drop(columns=['game_number.x', 'game_number.y'], errors='ignore')\n",
    "X_test = X_test.drop(columns=['game_number.x', 'game_number.y'], errors='ignore')\n",
    "\n",
    "# Initialize Stratified K-Folds\n",
    "cv = StratifiedKFold(n_splits=5, shuffle=True, random_state=42)\n",
    "\n",
    "# Define the parameter grid for Random Forest\n",
    "param_grid = {\n",
    "    'n_estimators': [50, 100, 200],\n",
    "    'max_features': ['sqrt', 'log2'],\n",
    "    'min_samples_split': [2, 5, 10],\n",
    "    'min_samples_leaf': [1, 2, 4],\n",
    "    'max_depth': [None, 10, 20],\n",
    "    'class_weight': [None, 'balanced']\n",
    "}\n",
    "\n",
    "# Initialize Random Forest model\n",
    "rf_model = RandomForestClassifier(random_state=42)\n",
    "\n",
    "# Perform Grid Search with Cross-Validation\n",
    "grid_search = RandomizedSearchCV(\n",
    "    RandomForestClassifier(),\n",
    "    param_distributions=param_grid,\n",
    "    n_iter=50,  # Number of random combinations to try\n",
    "    cv=3,  # folds\n",
    "    verbose=2,\n",
    "    n_jobs=-1  # Use all available cores\n",
    ")\n",
    "\n",
    "# Fit the GridSearchCV\n",
    "grid_search.fit(X_train, y_train)\n",
    "\n",
    "# Best parameters and best score\n",
    "print(\"Best Parameters:\", grid_search.best_params_)\n",
    "print(\"Best Cross-Validation Accuracy:\", grid_search.best_score_)\n",
    "\n",
    "# Train the model with the best parameters on the full training set\n",
    "best_rf_model = grid_search.best_estimator_\n",
    "best_rf_model.fit(X_train, y_train)\n",
    "\n",
    "# Evaluate on Test Data\n",
    "y_pred = best_rf_model.predict(X_test)\n",
    "accuracy = accuracy_score(y_test, y_pred)\n",
    "print(f\"\\nTest Set Accuracy: {accuracy:.4f}\")\n",
    "\n",
    "# Confusion Matrix and Classification Report\n",
    "print(\"\\nConfusion Matrix:\")\n",
    "print(confusion_matrix(y_test, y_pred))\n",
    "print(\"\\nClassification Report:\")\n",
    "print(classification_report(y_test, y_pred))\n",
    "\n",
    "# Feature Importance\n",
    "importances = pd.DataFrame({\n",
    "    'Feature': X_train.columns,\n",
    "    'Importance': best_rf_model.feature_importances_\n",
    "}).sort_values(by='Importance', ascending=False)\n",
    "\n",
    "# Visualize Feature Importances\n",
    "plt.figure(figsize=(10, 6))\n",
    "importances.plot(kind='barh', x='Feature', y='Importance', legend=False)\n",
    "plt.xlabel('Feature Importance')\n",
    "plt.title('Feature Importance Based on Optimized Random Forest Model')\n",
    "plt.gca().invert_yaxis()\n",
    "plt.show()"
   ]
  },
  {
   "cell_type": "markdown",
   "id": "9e90b008-3a1a-4566-9a10-5e273daf33b5",
   "metadata": {},
   "source": [
    "**Analysis of Random Forest Classifier:**\n",
    "\n",
    "After running a standard Random Forest Classifier on the train-test split, the model initially showed a slight decrease in accuracy compared to the plain logistic regression model, achieving only 61.35% accuracy on the test data. To improve performance, I implemented 5-fold cross-validation, which evaluates the model's performance over multiple folds. This increased the test set accuracy to 63.86%, with a very low standard deviation of cross-validation accuracy, confirming the model's stability. To further enhance accuracy, I added a grid search to find the best combination of hyperparameters based on cross-validation results. This approach resulted in an improved test accuracy of **64.70%**, bringing it closer to the performance of the logistic regression model.\n",
    "\n",
    "Feature importance analysis revealed interesting insights into the key factors influencing game outcomes. The two most significant features were \"wins for X\" and \"wins for Y\" over the past 15 games, which makes sense as recent performance would likely be a strong indicator of future results. The four ratings were also highly influential, as they directly relate to how many points the teams have scored and allowed. Surprisingly, the \"defending offensive rebound percentage\" of the opposing team was an important feature, suggesting that how well a team defends offensive rebounds is crucial in determining outcomes. Other notable features included \"AST.x\" and \"home.x,\" along with statistics like \"TOV%\" and \"FG%\" for both teams. I was surprised by the low importance of the \"back_to_back\" feature, which specifically emphasizes fatigue, as it was the only feature that directly captured this aspect of gameplay.\n",
    "\n",
    "The confusion matrix and classification report showed that this model was moderately more accurate in predicting wins than in predicting losses.\n"
   ]
  },
  {
   "cell_type": "markdown",
   "id": "960fdc1c-66aa-4f4d-a36a-8b9b6f3cb868",
   "metadata": {},
   "source": [
    "### e) Support Vector Classifier (SVM)\n",
    "\n",
    "After achieving similar successes with the Random Forest classifier, we aim to replicate or potentially improve our results using an SVM model. This model projects the n features into an n-dimensional space and finds the optimal hyperplane to separate classes. Similar to the Random Forest classifier, we will use a randomized search to identify the best hyperparameters and apply cross-validation to compare models."
   ]
  },
  {
   "cell_type": "code",
   "execution_count": 246,
   "id": "bb10c077-8181-4885-9bd3-340f75e1fa6e",
   "metadata": {},
   "outputs": [
    {
     "name": "stdout",
     "output_type": "stream",
     "text": [
      "Fitting 2 folds for each of 10 candidates, totalling 20 fits\n",
      "Best Cross-Validation Accuracy: 0.6356671381423857\n",
      "\n",
      "Test Set Accuracy: 0.6412\n",
      "\n",
      "Confusion Matrix:\n",
      "[[671 380]\n",
      " [381 689]]\n",
      "\n",
      "Classification Report:\n",
      "              precision    recall  f1-score   support\n",
      "\n",
      "           0       0.64      0.64      0.64      1051\n",
      "           1       0.64      0.64      0.64      1070\n",
      "\n",
      "    accuracy                           0.64      2121\n",
      "   macro avg       0.64      0.64      0.64      2121\n",
      "weighted avg       0.64      0.64      0.64      2121\n",
      "\n"
     ]
    }
   ],
   "source": [
    "# Initialize Stratified K-Folds with fewer splits\n",
    "cv = StratifiedKFold(n_splits=3, shuffle=True, random_state=42)\n",
    "\n",
    "# Define a simpler parameter grid for SVM\n",
    "param_grid = {\n",
    "    'C': [0.1, 1, 10],\n",
    "    'kernel': ['linear', 'rbf'],\n",
    "    'gamma': ['scale', 0.01, 0.1],\n",
    "}\n",
    "\n",
    "# Initialize SVM model\n",
    "svc_model = SVC(random_state=42)\n",
    "\n",
    "# Perform RandomizedSearchCV with fewer iterations\n",
    "random_search = RandomizedSearchCV(\n",
    "    SVC(),\n",
    "    param_distributions=param_grid,\n",
    "    n_iter=10,  # Fewer combinations to try\n",
    "    cv=2,  # Fewer folds\n",
    "    verbose=1,\n",
    "    n_jobs=-1  # Use all available cores\n",
    ")\n",
    "\n",
    "# Fit the RandomizedSearchCV\n",
    "random_search.fit(X_train, y_train)\n",
    "\n",
    "# Best score\n",
    "print(\"Best Cross-Validation Accuracy:\", random_search.best_score_)\n",
    "\n",
    "# Train the model with the best parameters on the full training set\n",
    "best_svc_model = random_search.best_estimator_\n",
    "best_svc_model.fit(X_train, y_train)\n",
    "\n",
    "# Evaluate on Test Data\n",
    "y_pred = best_svc_model.predict(X_test)\n",
    "accuracy = accuracy_score(y_test, y_pred)\n",
    "print(f\"\\nTest Set Accuracy: {accuracy:.4f}\")\n",
    "\n",
    "# Confusion Matrix and Classification Report\n",
    "print(\"\\nConfusion Matrix:\")\n",
    "print(confusion_matrix(y_test, y_pred))\n",
    "print(\"\\nClassification Report:\")\n",
    "print(classification_report(y_test, y_pred))"
   ]
  },
  {
   "cell_type": "markdown",
   "id": "b00b3ff4-aa24-47cb-a222-b033f6054062",
   "metadata": {},
   "source": [
    "**Analysis of Support Vector Classifier:**\n",
    "The runtime of the initial mdoel was very long, so I changed the number of cross validation splits to just 2, and simplified the paramater grid in comparision to the random forest classifeier. \n",
    "\n",
    "This model performed quite similarly to the logistic regression model. It had a higher accuracy on the test set than the random forest model\n",
    "With an accuracy on the test set of **66.19%**. "
   ]
  },
  {
   "cell_type": "markdown",
   "id": "6fb45908-2f98-4020-b499-ec67e93e861c",
   "metadata": {},
   "source": [
    "## **4. Predictions for Current Season**:\n",
    "The models use boxscore data from 2016 onward but do not include the current 2025 NBA season. Now, we can load in this data and test the accuracy using the three models. We should expect the results to be similar to the test accuracies of the previous models."
   ]
  },
  {
   "cell_type": "code",
   "execution_count": 247,
   "id": "9fbff163-0e38-4d85-827a-2331966d7b84",
   "metadata": {},
   "outputs": [],
   "source": [
    "#current_season = pd.read_csv(\"DATA/box_scores_using_just_means/FINAL_current_szn.csv\") # Load in data from current season, as of 12/21/24\n",
    "current_season = pd.read_csv(\"DATA/box_scores_using_just_means/curr_szn15.csv\") # Load in data from current season, as of 12/21/24\n",
    "\n",
    "# Create X and y for current season\n",
    "X_curr = current_season\n",
    "X_curr = X_curr.drop(columns=['game_number.x'])\n",
    "# We want to use the same features from the RFE conducted earlier\n",
    "X_curr_rfe = X_curr[selected_features]\n",
    "\n",
    "y_curr = current_season['outcome.x']  # Target variable"
   ]
  },
  {
   "cell_type": "markdown",
   "id": "b903e454-0cbd-4bdf-899f-d48f51d7727f",
   "metadata": {},
   "source": [
    "### a) Logistic Regression\n",
    "\n",
    "We start by observing how well our logisitic regression model fits the current season."
   ]
  },
  {
   "cell_type": "code",
   "execution_count": 248,
   "id": "1728e40d-c44d-4dd6-a910-eaedf84741c5",
   "metadata": {},
   "outputs": [
    {
     "name": "stdout",
     "output_type": "stream",
     "text": [
      "Model Accuracy of log reg model: 0.6425\n"
     ]
    },
    {
     "name": "stderr",
     "output_type": "stream",
     "text": [
      "/Users/kylebeedon/opt/anaconda3/lib/python3.9/site-packages/sklearn/base.py:486: UserWarning: X has feature names, but LogisticRegression was fitted without feature names\n",
      "  warnings.warn(\n"
     ]
    }
   ],
   "source": [
    "y_pred_curr = model.predict(X_curr_rfe)\n",
    "accuracy_curr = accuracy_score(y_curr, y_pred_curr)\n",
    "\n",
    "print(f'Model Accuracy of log reg model: {accuracy_curr:.4f}')"
   ]
  },
  {
   "cell_type": "markdown",
   "id": "08cb7dff-371d-4d43-ace4-515e8b661907",
   "metadata": {},
   "source": [
    "### b) Random Forest\n",
    "\n",
    "We will now observe how the random forest model fairs"
   ]
  },
  {
   "cell_type": "code",
   "execution_count": 249,
   "id": "c0250bce-9312-4254-abb7-4aab69e54cfa",
   "metadata": {},
   "outputs": [
    {
     "name": "stdout",
     "output_type": "stream",
     "text": [
      "\n",
      "Model Accuracy on Current Season: 0.5881\n"
     ]
    }
   ],
   "source": [
    "# Ensure X_curr has only the columns used during training\n",
    "X_curr = X_curr.reindex(columns=X_train.columns, fill_value=0)\n",
    "X_curr = X_curr.drop(columns=['game_number.x'], errors='ignore')\n",
    "\n",
    "# Make predictions for the current season using the trained Random Forest model\n",
    "y_pred_RF = best_rf_model.predict(X_curr)\n",
    "\n",
    "# Compute the accuracy of the model on the current season\n",
    "accuracy_RF = accuracy_score(y_curr, y_pred_RF)\n",
    "\n",
    "# Print the accuracy\n",
    "print(f\"\\nModel Accuracy on Current Season: {accuracy_RF:.4f}\")"
   ]
  },
  {
   "cell_type": "markdown",
   "id": "1bb80b57-a0f3-46c3-9197-3c531df86b72",
   "metadata": {},
   "source": [
    "### c) Support Vector Classifier "
   ]
  },
  {
   "cell_type": "code",
   "execution_count": 250,
   "id": "9bc89d54-e51a-4c25-8a9e-72c5bdcb85e2",
   "metadata": {},
   "outputs": [
    {
     "name": "stdout",
     "output_type": "stream",
     "text": [
      "\n",
      "SVM Model Accuracy on Current Season: 0.5881\n",
      "[CV] END class_weight=balanced, max_depth=None, max_features=log2, min_samples_leaf=4, min_samples_split=5, n_estimators=200; total time=   3.2s\n",
      "[CV] END class_weight=balanced, max_depth=20, max_features=sqrt, min_samples_leaf=2, min_samples_split=5, n_estimators=50; total time=   0.8s\n",
      "[CV] END class_weight=None, max_depth=None, max_features=sqrt, min_samples_leaf=1, min_samples_split=2, n_estimators=100; total time=   1.8s\n",
      "[CV] END class_weight=balanced, max_depth=20, max_features=sqrt, min_samples_leaf=1, min_samples_split=5, n_estimators=100; total time=   1.8s\n",
      "[CV] END class_weight=balanced, max_depth=20, max_features=sqrt, min_samples_leaf=1, min_samples_split=5, n_estimators=200; total time=   3.6s\n",
      "[CV] END class_weight=None, max_depth=None, max_features=sqrt, min_samples_leaf=2, min_samples_split=2, n_estimators=50; total time=   0.9s\n",
      "[CV] END class_weight=balanced, max_depth=None, max_features=sqrt, min_samples_leaf=1, min_samples_split=2, n_estimators=50; total time=   0.9s\n",
      "[CV] END class_weight=balanced, max_depth=None, max_features=sqrt, min_samples_leaf=1, min_samples_split=10, n_estimators=200; total time=   3.5s\n",
      "[CV] END class_weight=balanced, max_depth=20, max_features=log2, min_samples_leaf=4, min_samples_split=2, n_estimators=200; total time=   3.1s\n",
      "[CV] END class_weight=balanced, max_depth=20, max_features=log2, min_samples_leaf=2, min_samples_split=10, n_estimators=200; total time=   3.3s\n",
      "[CV] END class_weight=None, max_depth=None, max_features=log2, min_samples_leaf=1, min_samples_split=10, n_estimators=50; total time=   0.9s\n",
      "[CV] END class_weight=balanced, max_depth=None, max_features=sqrt, min_samples_leaf=4, min_samples_split=5, n_estimators=100; total time=   1.6s\n",
      "[CV] END class_weight=None, max_depth=10, max_features=log2, min_samples_leaf=4, min_samples_split=5, n_estimators=100; total time=   1.3s\n",
      "[CV] END class_weight=balanced, max_depth=None, max_features=log2, min_samples_leaf=2, min_samples_split=2, n_estimators=100; total time=   1.7s\n",
      "[CV] END class_weight=None, max_depth=10, max_features=log2, min_samples_leaf=2, min_samples_split=5, n_estimators=200; total time=   2.4s\n",
      "[CV] END class_weight=None, max_depth=10, max_features=sqrt, min_samples_leaf=1, min_samples_split=5, n_estimators=100; total time=   1.4s\n",
      "[CV] END class_weight=None, max_depth=10, max_features=sqrt, min_samples_leaf=2, min_samples_split=2, n_estimators=200; total time=   2.7s\n",
      "[CV] END class_weight=None, max_depth=None, max_features=log2, min_samples_leaf=2, min_samples_split=5, n_estimators=200; total time=   3.4s\n",
      "[CV] END class_weight=balanced, max_depth=None, max_features=sqrt, min_samples_leaf=4, min_samples_split=5, n_estimators=200; total time=   3.2s\n",
      "[CV] END class_weight=None, max_depth=20, max_features=log2, min_samples_leaf=1, min_samples_split=10, n_estimators=50; total time=   0.9s\n",
      "[CV] END class_weight=balanced, max_depth=20, max_features=log2, min_samples_leaf=4, min_samples_split=2, n_estimators=100; total time=   1.6s\n",
      "[CV] END class_weight=None, max_depth=None, max_features=sqrt, min_samples_leaf=2, min_samples_split=10, n_estimators=100; total time=   1.7s\n",
      "[CV] END class_weight=None, max_depth=20, max_features=log2, min_samples_leaf=4, min_samples_split=10, n_estimators=200; total time=   3.2s\n",
      "[CV] END class_weight=balanced, max_depth=None, max_features=log2, min_samples_leaf=4, min_samples_split=5, n_estimators=50; total time=   0.8s\n",
      "[CV] END class_weight=None, max_depth=10, max_features=sqrt, min_samples_leaf=4, min_samples_split=5, n_estimators=200; total time=   2.6s\n",
      "[CV] END class_weight=balanced, max_depth=20, max_features=log2, min_samples_leaf=2, min_samples_split=2, n_estimators=200; total time=   3.5s\n",
      "[CV] END class_weight=None, max_depth=20, max_features=sqrt, min_samples_leaf=2, min_samples_split=2, n_estimators=200; total time=   3.4s\n",
      "[CV] END class_weight=None, max_depth=10, max_features=log2, min_samples_leaf=2, min_samples_split=5, n_estimators=50; total time=   0.6s\n",
      "[CV] END class_weight=None, max_depth=10, max_features=log2, min_samples_leaf=2, min_samples_split=5, n_estimators=50; total time=   0.7s\n",
      "[CV] END class_weight=None, max_depth=10, max_features=log2, min_samples_leaf=1, min_samples_split=10, n_estimators=200; total time=   2.7s\n",
      "[CV] END class_weight=None, max_depth=None, max_features=sqrt, min_samples_leaf=1, min_samples_split=2, n_estimators=100; total time=   1.8s\n",
      "[CV] END class_weight=balanced, max_depth=None, max_features=sqrt, min_samples_leaf=1, min_samples_split=2, n_estimators=200; total time=   3.7s\n",
      "[CV] END class_weight=None, max_depth=None, max_features=log2, min_samples_leaf=1, min_samples_split=2, n_estimators=50; total time=   0.9s\n",
      "[CV] END class_weight=balanced, max_depth=None, max_features=log2, min_samples_leaf=1, min_samples_split=5, n_estimators=50; total time=   0.9s\n",
      "[CV] END class_weight=None, max_depth=None, max_features=sqrt, min_samples_leaf=2, min_samples_split=2, n_estimators=50; total time=   0.9s\n",
      "[CV] END class_weight=balanced, max_depth=None, max_features=sqrt, min_samples_leaf=1, min_samples_split=2, n_estimators=50; total time=   0.9s\n",
      "[CV] END class_weight=None, max_depth=20, max_features=log2, min_samples_leaf=1, min_samples_split=5, n_estimators=50; total time=   0.9s\n",
      "[CV] END class_weight=None, max_depth=20, max_features=log2, min_samples_leaf=1, min_samples_split=5, n_estimators=200; total time=   3.5s\n",
      "[CV] END class_weight=balanced, max_depth=20, max_features=sqrt, min_samples_leaf=4, min_samples_split=2, n_estimators=50; total time=   0.8s\n",
      "[CV] END class_weight=balanced, max_depth=None, max_features=log2, min_samples_leaf=2, min_samples_split=5, n_estimators=200; total time=   3.4s\n",
      "[CV] END class_weight=balanced, max_depth=10, max_features=log2, min_samples_leaf=1, min_samples_split=5, n_estimators=50; total time=   0.6s\n",
      "[CV] END class_weight=balanced, max_depth=None, max_features=sqrt, min_samples_leaf=2, min_samples_split=10, n_estimators=100; total time=   1.7s\n",
      "[CV] END class_weight=None, max_depth=20, max_features=sqrt, min_samples_leaf=2, min_samples_split=10, n_estimators=100; total time=   1.6s\n",
      "[CV] END class_weight=None, max_depth=None, max_features=log2, min_samples_leaf=4, min_samples_split=10, n_estimators=100; total time=   1.6s\n",
      "[CV] END class_weight=balanced, max_depth=None, max_features=log2, min_samples_leaf=2, min_samples_split=2, n_estimators=100; total time=   1.8s\n",
      "[CV] END class_weight=balanced, max_depth=10, max_features=log2, min_samples_leaf=2, min_samples_split=5, n_estimators=100; total time=   1.2s\n",
      "[CV] END class_weight=balanced, max_depth=None, max_features=sqrt, min_samples_leaf=1, min_samples_split=2, n_estimators=50; total time=   1.0s\n",
      "[CV] END class_weight=None, max_depth=20, max_features=log2, min_samples_leaf=4, min_samples_split=10, n_estimators=50; total time=   0.8s\n",
      "[CV] END class_weight=None, max_depth=None, max_features=sqrt, min_samples_leaf=1, min_samples_split=10, n_estimators=50; total time=   0.9s\n",
      "[CV] END class_weight=None, max_depth=20, max_features=sqrt, min_samples_leaf=4, min_samples_split=5, n_estimators=200; total time=   3.2s\n",
      "[CV] END class_weight=balanced, max_depth=None, max_features=log2, min_samples_leaf=4, min_samples_split=2, n_estimators=100; total time=   1.6s\n",
      "[CV] END class_weight=None, max_depth=10, max_features=log2, min_samples_leaf=1, min_samples_split=5, n_estimators=50; total time=   0.7s\n",
      "[CV] END class_weight=balanced, max_depth=10, max_features=log2, min_samples_leaf=1, min_samples_split=2, n_estimators=100; total time=   1.4s\n",
      "[CV] END class_weight=balanced, max_depth=10, max_features=log2, min_samples_leaf=1, min_samples_split=10, n_estimators=50; total time=   0.7s\n",
      "[CV] END class_weight=None, max_depth=10, max_features=sqrt, min_samples_leaf=1, min_samples_split=2, n_estimators=100; total time=   1.3s\n",
      "[CV] END class_weight=None, max_depth=10, max_features=sqrt, min_samples_leaf=1, min_samples_split=10, n_estimators=200; total time=   2.6s\n",
      "[CV] END class_weight=None, max_depth=20, max_features=log2, min_samples_leaf=2, min_samples_split=5, n_estimators=50; total time=   0.9s\n",
      "[CV] END class_weight=balanced, max_depth=10, max_features=sqrt, min_samples_leaf=1, min_samples_split=5, n_estimators=100; total time=   1.3s\n",
      "[CV] END class_weight=None, max_depth=None, max_features=log2, min_samples_leaf=1, min_samples_split=2, n_estimators=200; total time=   3.6s\n",
      "[CV] END class_weight=balanced, max_depth=None, max_features=sqrt, min_samples_leaf=2, min_samples_split=2, n_estimators=100; total time=   1.7s\n",
      "[CV] END class_weight=None, max_depth=20, max_features=log2, min_samples_leaf=4, min_samples_split=2, n_estimators=50; total time=   0.8s\n",
      "[CV] END class_weight=balanced, max_depth=None, max_features=log2, min_samples_leaf=1, min_samples_split=10, n_estimators=100; total time=   1.7s\n",
      "[CV] END class_weight=None, max_depth=20, max_features=sqrt, min_samples_leaf=2, min_samples_split=2, n_estimators=200; total time=   3.4s\n",
      "[CV] END class_weight=balanced, max_depth=None, max_features=log2, min_samples_leaf=4, min_samples_split=5, n_estimators=200; total time=   3.2s\n",
      "[CV] END class_weight=balanced, max_depth=20, max_features=sqrt, min_samples_leaf=2, min_samples_split=5, n_estimators=50; total time=   0.9s\n",
      "[CV] END class_weight=None, max_depth=None, max_features=sqrt, min_samples_leaf=1, min_samples_split=5, n_estimators=50; total time=   0.9s\n",
      "[CV] END class_weight=None, max_depth=None, max_features=sqrt, min_samples_leaf=2, min_samples_split=5, n_estimators=200; total time=   3.4s\n",
      "[CV] END class_weight=None, max_depth=10, max_features=sqrt, min_samples_leaf=2, min_samples_split=2, n_estimators=200; total time=   2.6s\n",
      "[CV] END class_weight=balanced, max_depth=20, max_features=sqrt, min_samples_leaf=4, min_samples_split=5, n_estimators=200; total time=   3.1s\n",
      "[CV] END class_weight=None, max_depth=20, max_features=log2, min_samples_leaf=1, min_samples_split=5, n_estimators=50; total time=   0.9s\n",
      "[CV] END class_weight=balanced, max_depth=10, max_features=log2, min_samples_leaf=2, min_samples_split=2, n_estimators=200; total time=   2.7s\n",
      "[CV] END class_weight=None, max_depth=10, max_features=log2, min_samples_leaf=1, min_samples_split=2, n_estimators=200; total time=   2.6s\n",
      "[CV] END class_weight=balanced, max_depth=10, max_features=log2, min_samples_leaf=2, min_samples_split=5, n_estimators=200; total time=   2.7s\n",
      "[CV] END class_weight=None, max_depth=None, max_features=log2, min_samples_leaf=1, min_samples_split=10, n_estimators=50; total time=   0.9s\n",
      "[CV] END class_weight=balanced, max_depth=None, max_features=sqrt, min_samples_leaf=4, min_samples_split=5, n_estimators=100; total time=   1.6s\n",
      "[CV] END class_weight=balanced, max_depth=20, max_features=log2, min_samples_leaf=1, min_samples_split=5, n_estimators=200; total time=   3.6s\n",
      "[CV] END class_weight=balanced, max_depth=10, max_features=log2, min_samples_leaf=2, min_samples_split=5, n_estimators=100; total time=   1.2s\n",
      "[CV] END class_weight=None, max_depth=10, max_features=sqrt, min_samples_leaf=1, min_samples_split=5, n_estimators=100; total time=   1.4s\n",
      "[CV] END class_weight=None, max_depth=10, max_features=sqrt, min_samples_leaf=2, min_samples_split=2, n_estimators=200; total time=   2.7s\n",
      "[CV] END class_weight=None, max_depth=None, max_features=log2, min_samples_leaf=2, min_samples_split=5, n_estimators=200; total time=   3.4s\n",
      "[CV] END class_weight=None, max_depth=10, max_features=log2, min_samples_leaf=1, min_samples_split=5, n_estimators=50; total time=   0.7s\n",
      "[CV] END class_weight=balanced, max_depth=None, max_features=sqrt, min_samples_leaf=4, min_samples_split=5, n_estimators=200; total time=   3.3s\n",
      "[CV] END class_weight=None, max_depth=10, max_features=sqrt, min_samples_leaf=1, min_samples_split=10, n_estimators=200; total time=   2.7s\n",
      "[CV] END class_weight=None, max_depth=20, max_features=log2, min_samples_leaf=2, min_samples_split=5, n_estimators=50; total time=   0.9s\n",
      "[CV] END class_weight=None, max_depth=20, max_features=log2, min_samples_leaf=4, min_samples_split=10, n_estimators=200; total time=   3.1s\n",
      "[CV] END class_weight=None, max_depth=10, max_features=sqrt, min_samples_leaf=2, min_samples_split=10, n_estimators=50; total time=   0.7s\n",
      "[CV] END class_weight=None, max_depth=10, max_features=sqrt, min_samples_leaf=4, min_samples_split=5, n_estimators=200; total time=   2.7s\n",
      "[CV] END class_weight=balanced, max_depth=20, max_features=log2, min_samples_leaf=2, min_samples_split=2, n_estimators=200; total time=   3.6s\n",
      "[CV] END class_weight=None, max_depth=20, max_features=sqrt, min_samples_leaf=2, min_samples_split=2, n_estimators=200; total time=   3.4s\n",
      "[CV] END class_weight=balanced, max_depth=None, max_features=log2, min_samples_leaf=1, min_samples_split=2, n_estimators=100; total time=   1.8s\n",
      "[CV] END class_weight=None, max_depth=10, max_features=log2, min_samples_leaf=1, min_samples_split=10, n_estimators=200; total time=   2.6s\n",
      "[CV] END class_weight=None, max_depth=None, max_features=sqrt, min_samples_leaf=2, min_samples_split=5, n_estimators=200; total time=   3.3s\n",
      "[CV] END class_weight=balanced, max_depth=10, max_features=sqrt, min_samples_leaf=4, min_samples_split=10, n_estimators=100; total time=   1.3s\n",
      "[CV] END class_weight=None, max_depth=10, max_features=sqrt, min_samples_leaf=2, min_samples_split=2, n_estimators=200; total time=   2.6s\n",
      "[CV] END class_weight=None, max_depth=None, max_features=sqrt, min_samples_leaf=2, min_samples_split=2, n_estimators=50; total time=   0.9s\n",
      "[CV] END class_weight=balanced, max_depth=None, max_features=sqrt, min_samples_leaf=1, min_samples_split=10, n_estimators=200; total time=   3.5s\n",
      "[CV] END class_weight=None, max_depth=None, max_features=log2, min_samples_leaf=2, min_samples_split=5, n_estimators=100; total time=   1.7s\n",
      "[CV] END class_weight=None, max_depth=10, max_features=log2, min_samples_leaf=1, min_samples_split=2, n_estimators=200; total time=   2.7s\n",
      "[CV] END class_weight=balanced, max_depth=None, max_features=log2, min_samples_leaf=1, min_samples_split=2, n_estimators=50; total time=   0.9s\n",
      "[CV] END class_weight=balanced, max_depth=None, max_features=log2, min_samples_leaf=1, min_samples_split=2, n_estimators=50; total time=   0.9s\n",
      "[CV] END class_weight=None, max_depth=None, max_features=sqrt, min_samples_leaf=4, min_samples_split=10, n_estimators=100; total time=   1.5s\n",
      "[CV] END class_weight=None, max_depth=None, max_features=log2, min_samples_leaf=2, min_samples_split=2, n_estimators=50; total time=   0.9s\n",
      "[CV] END class_weight=balanced, max_depth=None, max_features=sqrt, min_samples_leaf=2, min_samples_split=10, n_estimators=200; total time=   3.3s\n",
      "[CV] END class_weight=None, max_depth=10, max_features=log2, min_samples_leaf=2, min_samples_split=10, n_estimators=100; total time=   1.3s\n",
      "[CV] END class_weight=None, max_depth=10, max_features=log2, min_samples_leaf=2, min_samples_split=10, n_estimators=50; total time=   0.7s\n",
      "[CV] END class_weight=None, max_depth=None, max_features=sqrt, min_samples_leaf=2, min_samples_split=2, n_estimators=50; total time=   0.9s\n",
      "[CV] END class_weight=None, max_depth=10, max_features=sqrt, min_samples_leaf=2, min_samples_split=2, n_estimators=200; total time=   2.6s\n",
      "[CV] END class_weight=balanced, max_depth=10, max_features=sqrt, min_samples_leaf=4, min_samples_split=5, n_estimators=50; total time=   0.6s\n",
      "[CV] END class_weight=balanced, max_depth=10, max_features=sqrt, min_samples_leaf=4, min_samples_split=5, n_estimators=50; total time=   0.6s\n",
      "[CV] END class_weight=balanced, max_depth=None, max_features=log2, min_samples_leaf=4, min_samples_split=2, n_estimators=100; total time=   1.6s\n",
      "[CV] END class_weight=balanced, max_depth=None, max_features=sqrt, min_samples_leaf=1, min_samples_split=5, n_estimators=100; total time=   1.8s\n",
      "[CV] END class_weight=balanced, max_depth=10, max_features=log2, min_samples_leaf=1, min_samples_split=2, n_estimators=100; total time=   1.4s\n",
      "[CV] END class_weight=None, max_depth=10, max_features=sqrt, min_samples_leaf=1, min_samples_split=2, n_estimators=100; total time=   1.4s\n",
      "[CV] END class_weight=balanced, max_depth=20, max_features=log2, min_samples_leaf=4, min_samples_split=2, n_estimators=100; total time=   1.6s\n",
      "[CV] END class_weight=None, max_depth=None, max_features=sqrt, min_samples_leaf=2, min_samples_split=10, n_estimators=100; total time=   1.7s\n",
      "[CV] END class_weight=balanced, max_depth=None, max_features=log2, min_samples_leaf=1, min_samples_split=2, n_estimators=200; total time=   3.7s\n",
      "[CV] END class_weight=balanced, max_depth=20, max_features=log2, min_samples_leaf=1, min_samples_split=2, n_estimators=100; total time=   1.8s\n",
      "[CV] END class_weight=None, max_depth=20, max_features=sqrt, min_samples_leaf=1, min_samples_split=10, n_estimators=200; total time=   3.5s\n",
      "[CV] END class_weight=None, max_depth=None, max_features=log2, min_samples_leaf=2, min_samples_split=10, n_estimators=200; total time=   3.4s\n",
      "[CV] END class_weight=balanced, max_depth=20, max_features=sqrt, min_samples_leaf=1, min_samples_split=10, n_estimators=100; total time=   1.6s\n",
      "[CV] END class_weight=balanced, max_depth=10, max_features=sqrt, min_samples_leaf=4, min_samples_split=2, n_estimators=100; total time=   1.2s\n",
      "[CV] END class_weight=None, max_depth=10, max_features=log2, min_samples_leaf=2, min_samples_split=5, n_estimators=50; total time=   0.7s\n",
      "[CV] END class_weight=None, max_depth=20, max_features=log2, min_samples_leaf=1, min_samples_split=10, n_estimators=200; total time=   3.5s\n",
      "[CV] END class_weight=balanced, max_depth=20, max_features=sqrt, min_samples_leaf=1, min_samples_split=5, n_estimators=100; total time=   1.8s\n",
      "[CV] END class_weight=None, max_depth=10, max_features=sqrt, min_samples_leaf=2, min_samples_split=10, n_estimators=50; total time=   0.7s\n",
      "[CV] END class_weight=balanced, max_depth=10, max_features=sqrt, min_samples_leaf=4, min_samples_split=10, n_estimators=100; total time=   1.3s\n",
      "[CV] END class_weight=None, max_depth=10, max_features=sqrt, min_samples_leaf=2, min_samples_split=2, n_estimators=200; total time=   2.6s\n",
      "[CV] END class_weight=balanced, max_depth=None, max_features=sqrt, min_samples_leaf=1, min_samples_split=2, n_estimators=50; total time=   1.0s\n",
      "[CV] END class_weight=balanced, max_depth=None, max_features=sqrt, min_samples_leaf=1, min_samples_split=10, n_estimators=200; total time=   3.5s\n",
      "[CV] END class_weight=None, max_depth=None, max_features=log2, min_samples_leaf=2, min_samples_split=5, n_estimators=100; total time=   1.7s\n",
      "[CV] END class_weight=balanced, max_depth=None, max_features=log2, min_samples_leaf=2, min_samples_split=5, n_estimators=200; total time=   3.5s\n",
      "[CV] END class_weight=balanced, max_depth=None, max_features=log2, min_samples_leaf=1, min_samples_split=2, n_estimators=50; total time=   0.9s\n",
      "[CV] END class_weight=None, max_depth=None, max_features=sqrt, min_samples_leaf=4, min_samples_split=10, n_estimators=100; total time=   1.6s\n",
      "[CV] END class_weight=None, max_depth=None, max_features=log2, min_samples_leaf=2, min_samples_split=2, n_estimators=50; total time=   0.9s\n",
      "[CV] END class_weight=None, max_depth=10, max_features=log2, min_samples_leaf=4, min_samples_split=5, n_estimators=100; total time=   1.3s\n",
      "[CV] END class_weight=None, max_depth=None, max_features=log2, min_samples_leaf=4, min_samples_split=10, n_estimators=100; total time=   1.6s\n",
      "[CV] END class_weight=balanced, max_depth=None, max_features=log2, min_samples_leaf=2, min_samples_split=2, n_estimators=100; total time=   1.8s\n",
      "[CV] END class_weight=None, max_depth=10, max_features=log2, min_samples_leaf=2, min_samples_split=10, n_estimators=50; total time=   0.7s\n",
      "[CV] END class_weight=balanced, max_depth=10, max_features=log2, min_samples_leaf=1, min_samples_split=2, n_estimators=200; total time=   2.6s\n",
      "[CV] END class_weight=balanced, max_depth=None, max_features=log2, min_samples_leaf=2, min_samples_split=5, n_estimators=200; total time=   3.4s\n",
      "[CV] END class_weight=None, max_depth=20, max_features=sqrt, min_samples_leaf=1, min_samples_split=5, n_estimators=200; total time=   3.6s\n",
      "[CV] END class_weight=None, max_depth=None, max_features=log2, min_samples_leaf=2, min_samples_split=10, n_estimators=100; total time=   1.7s\n",
      "[CV] END class_weight=balanced, max_depth=10, max_features=sqrt, min_samples_leaf=1, min_samples_split=5, n_estimators=200; total time=   2.7s\n",
      "[CV] END class_weight=balanced, max_depth=10, max_features=sqrt, min_samples_leaf=2, min_samples_split=2, n_estimators=100; total time=   1.3s\n",
      "[CV] END class_weight=None, max_depth=None, max_features=log2, min_samples_leaf=1, min_samples_split=2, n_estimators=200; total time=   3.6s\n",
      "[CV] END class_weight=balanced, max_depth=None, max_features=sqrt, min_samples_leaf=2, min_samples_split=2, n_estimators=100; total time=   1.7s\n",
      "[CV] END class_weight=balanced, max_depth=20, max_features=sqrt, min_samples_leaf=1, min_samples_split=10, n_estimators=50; total time=   0.9s\n",
      "[CV] END class_weight=balanced, max_depth=None, max_features=log2, min_samples_leaf=1, min_samples_split=10, n_estimators=100; total time=   1.8s\n",
      "[CV] END class_weight=None, max_depth=None, max_features=log2, min_samples_leaf=2, min_samples_split=10, n_estimators=200; total time=   3.4s\n",
      "[CV] END class_weight=balanced, max_depth=20, max_features=sqrt, min_samples_leaf=1, min_samples_split=10, n_estimators=100; total time=   1.6s\n",
      "[CV] END class_weight=balanced, max_depth=None, max_features=log2, min_samples_leaf=1, min_samples_split=2, n_estimators=100; total time=   1.9s\n",
      "[CV] END class_weight=None, max_depth=10, max_features=log2, min_samples_leaf=1, min_samples_split=10, n_estimators=200; total time=   2.6s\n",
      "[CV] END class_weight=None, max_depth=None, max_features=sqrt, min_samples_leaf=2, min_samples_split=5, n_estimators=200; total time=   3.5s\n",
      "[CV] END class_weight=balanced, max_depth=10, max_features=sqrt, min_samples_leaf=4, min_samples_split=10, n_estimators=100; total time=   1.3s\n",
      "[CV] END class_weight=None, max_depth=None, max_features=log2, min_samples_leaf=1, min_samples_split=2, n_estimators=50; total time=   1.0s\n",
      "[CV] END class_weight=balanced, max_depth=None, max_features=log2, min_samples_leaf=1, min_samples_split=5, n_estimators=50; total time=   0.9s\n",
      "[CV] END class_weight=balanced, max_depth=20, max_features=sqrt, min_samples_leaf=4, min_samples_split=5, n_estimators=200; total time=   3.2s\n",
      "[CV] END class_weight=None, max_depth=20, max_features=log2, min_samples_leaf=1, min_samples_split=5, n_estimators=200; total time=   3.5s\n",
      "[CV] END class_weight=balanced, max_depth=20, max_features=sqrt, min_samples_leaf=4, min_samples_split=2, n_estimators=50; total time=   0.8s\n",
      "[CV] END class_weight=balanced, max_depth=None, max_features=log2, min_samples_leaf=2, min_samples_split=5, n_estimators=200; total time=   3.4s\n",
      "[CV] END class_weight=balanced, max_depth=10, max_features=log2, min_samples_leaf=1, min_samples_split=5, n_estimators=50; total time=   0.7s\n",
      "[CV] END class_weight=balanced, max_depth=None, max_features=sqrt, min_samples_leaf=2, min_samples_split=10, n_estimators=100; total time=   1.7s\n",
      "[CV] END class_weight=balanced, max_depth=None, max_features=sqrt, min_samples_leaf=2, min_samples_split=10, n_estimators=200; total time=   3.4s\n",
      "[CV] END class_weight=None, max_depth=10, max_features=log2, min_samples_leaf=2, min_samples_split=10, n_estimators=100; total time=   1.3s\n",
      "[CV] END class_weight=balanced, max_depth=10, max_features=log2, min_samples_leaf=2, min_samples_split=5, n_estimators=100; total time=   1.2s\n",
      "[CV] END class_weight=balanced, max_depth=None, max_features=sqrt, min_samples_leaf=1, min_samples_split=2, n_estimators=50; total time=   1.0s\n",
      "[CV] END class_weight=None, max_depth=20, max_features=log2, min_samples_leaf=4, min_samples_split=10, n_estimators=50; total time=   0.8s\n",
      "[CV] END class_weight=None, max_depth=None, max_features=sqrt, min_samples_leaf=1, min_samples_split=10, n_estimators=50; total time=   0.9s\n",
      "[CV] END class_weight=balanced, max_depth=None, max_features=log2, min_samples_leaf=2, min_samples_split=5, n_estimators=200; total time=   3.4s\n",
      "[CV] END class_weight=balanced, max_depth=10, max_features=log2, min_samples_leaf=2, min_samples_split=2, n_estimators=50; total time=   0.7s\n",
      "[CV] END class_weight=None, max_depth=20, max_features=sqrt, min_samples_leaf=1, min_samples_split=5, n_estimators=200; total time=   3.6s\n",
      "[CV] END class_weight=None, max_depth=None, max_features=log2, min_samples_leaf=2, min_samples_split=10, n_estimators=100; total time=   1.7s\n",
      "[CV] END class_weight=balanced, max_depth=10, max_features=sqrt, min_samples_leaf=1, min_samples_split=5, n_estimators=200; total time=   2.7s\n",
      "[CV] END class_weight=balanced, max_depth=None, max_features=log2, min_samples_leaf=1, min_samples_split=2, n_estimators=200; total time=   3.7s\n",
      "[CV] END class_weight=balanced, max_depth=20, max_features=log2, min_samples_leaf=1, min_samples_split=2, n_estimators=100; total time=   1.8s\n",
      "[CV] END class_weight=None, max_depth=20, max_features=sqrt, min_samples_leaf=1, min_samples_split=10, n_estimators=200; total time=   3.5s\n",
      "[CV] END class_weight=None, max_depth=None, max_features=log2, min_samples_leaf=4, min_samples_split=10, n_estimators=200; total time=   3.2s\n",
      "[CV] END class_weight=None, max_depth=20, max_features=sqrt, min_samples_leaf=4, min_samples_split=10, n_estimators=200; total time=   2.9s\n",
      "[CV] END class_weight=balanced, max_depth=10, max_features=sqrt, min_samples_leaf=4, min_samples_split=2, n_estimators=100; total time=   1.3s\n",
      "[CV] END class_weight=balanced, max_depth=None, max_features=sqrt, min_samples_leaf=2, min_samples_split=2, n_estimators=100; total time=   1.7s\n",
      "[CV] END class_weight=None, max_depth=20, max_features=log2, min_samples_leaf=1, min_samples_split=10, n_estimators=200; total time=   3.4s\n",
      "[CV] END class_weight=None, max_depth=10, max_features=sqrt, min_samples_leaf=2, min_samples_split=10, n_estimators=50; total time=   0.7s\n",
      "[CV] END class_weight=balanced, max_depth=20, max_features=sqrt, min_samples_leaf=1, min_samples_split=5, n_estimators=200; total time=   3.6s\n",
      "[CV] END class_weight=balanced, max_depth=None, max_features=log2, min_samples_leaf=1, min_samples_split=2, n_estimators=200; total time=   3.7s\n",
      "[CV] END class_weight=balanced, max_depth=10, max_features=log2, min_samples_leaf=2, min_samples_split=2, n_estimators=200; total time=   2.6s\n",
      "[CV] END class_weight=balanced, max_depth=20, max_features=log2, min_samples_leaf=4, min_samples_split=2, n_estimators=200; total time=   3.2s\n",
      "[CV] END class_weight=balanced, max_depth=10, max_features=log2, min_samples_leaf=2, min_samples_split=5, n_estimators=200; total time=   2.6s\n",
      "[CV] END class_weight=None, max_depth=None, max_features=log2, min_samples_leaf=1, min_samples_split=10, n_estimators=50; total time=   0.9s\n",
      "[CV] END class_weight=balanced, max_depth=None, max_features=sqrt, min_samples_leaf=4, min_samples_split=5, n_estimators=100; total time=   1.6s\n",
      "[CV] END class_weight=None, max_depth=10, max_features=log2, min_samples_leaf=4, min_samples_split=5, n_estimators=100; total time=   1.3s\n",
      "[CV] END class_weight=None, max_depth=None, max_features=log2, min_samples_leaf=4, min_samples_split=10, n_estimators=100; total time=   1.5s\n",
      "[CV] END class_weight=None, max_depth=10, max_features=log2, min_samples_leaf=2, min_samples_split=5, n_estimators=200; total time=   2.4s\n",
      "[CV] END class_weight=None, max_depth=10, max_features=sqrt, min_samples_leaf=1, min_samples_split=5, n_estimators=100; total time=   1.4s\n",
      "[CV] END class_weight=None, max_depth=20, max_features=log2, min_samples_leaf=4, min_samples_split=10, n_estimators=50; total time=   0.8s\n",
      "[CV] END class_weight=None, max_depth=20, max_features=sqrt, min_samples_leaf=4, min_samples_split=5, n_estimators=200; total time=   3.2s\n",
      "[CV] END class_weight=balanced, max_depth=10, max_features=sqrt, min_samples_leaf=4, min_samples_split=5, n_estimators=50; total time=   0.7s\n",
      "[CV] END class_weight=balanced, max_depth=10, max_features=log2, min_samples_leaf=2, min_samples_split=2, n_estimators=50; total time=   0.7s\n",
      "[CV] END class_weight=balanced, max_depth=10, max_features=log2, min_samples_leaf=2, min_samples_split=2, n_estimators=50; total time=   0.7s\n",
      "[CV] END class_weight=None, max_depth=10, max_features=log2, min_samples_leaf=1, min_samples_split=5, n_estimators=50; total time=   0.7s\n",
      "[CV] END class_weight=balanced, max_depth=None, max_features=sqrt, min_samples_leaf=4, min_samples_split=5, n_estimators=200; total time=   3.2s\n",
      "[CV] END class_weight=None, max_depth=20, max_features=log2, min_samples_leaf=1, min_samples_split=10, n_estimators=50; total time=   0.9s\n",
      "[CV] END class_weight=None, max_depth=None, max_features=sqrt, min_samples_leaf=2, min_samples_split=10, n_estimators=100; total time=   1.7s\n",
      "[CV] END class_weight=balanced, max_depth=10, max_features=log2, min_samples_leaf=2, min_samples_split=5, n_estimators=50; total time=   0.7s\n",
      "[CV] END class_weight=balanced, max_depth=10, max_features=sqrt, min_samples_leaf=2, min_samples_split=2, n_estimators=100; total time=   1.3s\n",
      "[CV] END class_weight=balanced, max_depth=10, max_features=sqrt, min_samples_leaf=1, min_samples_split=5, n_estimators=100; total time=   1.4s\n",
      "[CV] END class_weight=None, max_depth=None, max_features=log2, min_samples_leaf=1, min_samples_split=2, n_estimators=200; total time=   3.6s\n",
      "[CV] END class_weight=balanced, max_depth=20, max_features=sqrt, min_samples_leaf=1, min_samples_split=10, n_estimators=50; total time=   0.9s\n",
      "[CV] END class_weight=None, max_depth=20, max_features=log2, min_samples_leaf=4, min_samples_split=2, n_estimators=50; total time=   0.8s\n",
      "[CV] END class_weight=balanced, max_depth=None, max_features=log2, min_samples_leaf=1, min_samples_split=10, n_estimators=100; total time=   1.7s\n",
      "[CV] END class_weight=None, max_depth=None, max_features=log2, min_samples_leaf=2, min_samples_split=10, n_estimators=200; total time=   3.3s\n",
      "[CV] END class_weight=balanced, max_depth=20, max_features=sqrt, min_samples_leaf=1, min_samples_split=10, n_estimators=100; total time=   1.6s\n",
      "[CV] END class_weight=balanced, max_depth=None, max_features=log2, min_samples_leaf=4, min_samples_split=5, n_estimators=200; total time=   3.1s\n",
      "[CV] END class_weight=None, max_depth=None, max_features=sqrt, min_samples_leaf=1, min_samples_split=5, n_estimators=50; total time=   0.9s\n",
      "[CV] END class_weight=None, max_depth=None, max_features=sqrt, min_samples_leaf=1, min_samples_split=2, n_estimators=100; total time=   1.8s\n",
      "[CV] END class_weight=balanced, max_depth=None, max_features=sqrt, min_samples_leaf=1, min_samples_split=2, n_estimators=200; total time=   3.7s\n",
      "[CV] END class_weight=None, max_depth=None, max_features=log2, min_samples_leaf=1, min_samples_split=2, n_estimators=50; total time=   1.0s\n",
      "[CV] END class_weight=balanced, max_depth=None, max_features=log2, min_samples_leaf=1, min_samples_split=2, n_estimators=200; total time=   3.7s\n",
      "[CV] END class_weight=None, max_depth=20, max_features=log2, min_samples_leaf=1, min_samples_split=5, n_estimators=200; total time=   3.5s\n",
      "[CV] END class_weight=balanced, max_depth=20, max_features=sqrt, min_samples_leaf=4, min_samples_split=2, n_estimators=50; total time=   0.8s\n",
      "[CV] END class_weight=balanced, max_depth=20, max_features=log2, min_samples_leaf=2, min_samples_split=10, n_estimators=200; total time=   3.4s\n",
      "[CV] END class_weight=balanced, max_depth=10, max_features=log2, min_samples_leaf=1, min_samples_split=5, n_estimators=50; total time=   0.7s\n",
      "[CV] END class_weight=balanced, max_depth=None, max_features=sqrt, min_samples_leaf=2, min_samples_split=10, n_estimators=100; total time=   1.7s\n",
      "[CV] END class_weight=balanced, max_depth=None, max_features=sqrt, min_samples_leaf=2, min_samples_split=10, n_estimators=200; total time=   3.4s\n",
      "[CV] END class_weight=None, max_depth=10, max_features=log2, min_samples_leaf=2, min_samples_split=10, n_estimators=100; total time=   1.3s\n",
      "[CV] END class_weight=None, max_depth=10, max_features=log2, min_samples_leaf=2, min_samples_split=5, n_estimators=200; total time=   2.3s\n",
      "[CV] END class_weight=None, max_depth=None, max_features=sqrt, min_samples_leaf=2, min_samples_split=2, n_estimators=50; total time=   0.9s\n",
      "[CV] END class_weight=balanced, max_depth=10, max_features=log2, min_samples_leaf=1, min_samples_split=2, n_estimators=200; total time=   2.7s\n",
      "[CV] END class_weight=balanced, max_depth=None, max_features=log2, min_samples_leaf=2, min_samples_split=5, n_estimators=200; total time=   3.4s\n",
      "[CV] END class_weight=None, max_depth=20, max_features=sqrt, min_samples_leaf=1, min_samples_split=5, n_estimators=200; total time=   3.5s\n",
      "[CV] END class_weight=None, max_depth=20, max_features=log2, min_samples_leaf=1, min_samples_split=10, n_estimators=50; total time=   0.9s\n",
      "[CV] END class_weight=None, max_depth=10, max_features=sqrt, min_samples_leaf=1, min_samples_split=10, n_estimators=200; total time=   2.7s\n",
      "[CV] END class_weight=None, max_depth=20, max_features=log2, min_samples_leaf=2, min_samples_split=5, n_estimators=50; total time=   0.9s\n",
      "[CV] END class_weight=None, max_depth=20, max_features=log2, min_samples_leaf=4, min_samples_split=10, n_estimators=200; total time=   3.2s\n",
      "[CV] END class_weight=balanced, max_depth=None, max_features=log2, min_samples_leaf=4, min_samples_split=5, n_estimators=50; total time=   0.8s\n",
      "[CV] END class_weight=None, max_depth=10, max_features=sqrt, min_samples_leaf=4, min_samples_split=5, n_estimators=200; total time=   2.6s\n",
      "[CV] END class_weight=balanced, max_depth=20, max_features=log2, min_samples_leaf=2, min_samples_split=2, n_estimators=200; total time=   3.5s\n",
      "[CV] END class_weight=balanced, max_depth=None, max_features=sqrt, min_samples_leaf=4, min_samples_split=10, n_estimators=100; total time=   1.6s\n",
      "[CV] END class_weight=balanced, max_depth=None, max_features=sqrt, min_samples_leaf=4, min_samples_split=10, n_estimators=100; total time=   1.6s\n",
      "[CV] END class_weight=balanced, max_depth=10, max_features=sqrt, min_samples_leaf=4, min_samples_split=2, n_estimators=100; total time=   1.3s\n",
      "[CV] END class_weight=balanced, max_depth=None, max_features=sqrt, min_samples_leaf=2, min_samples_split=2, n_estimators=100; total time=   1.7s\n",
      "[CV] END class_weight=None, max_depth=20, max_features=log2, min_samples_leaf=1, min_samples_split=10, n_estimators=200; total time=   3.5s\n",
      "[CV] END class_weight=balanced, max_depth=None, max_features=sqrt, min_samples_leaf=1, min_samples_split=2, n_estimators=200; total time=   3.7s\n",
      "[CV] END class_weight=balanced, max_depth=None, max_features=log2, min_samples_leaf=1, min_samples_split=5, n_estimators=50; total time=   0.9s\n",
      "[CV] END class_weight=balanced, max_depth=20, max_features=sqrt, min_samples_leaf=4, min_samples_split=5, n_estimators=200; total time=   3.1s\n",
      "[CV] END class_weight=None, max_depth=20, max_features=log2, min_samples_leaf=1, min_samples_split=5, n_estimators=50; total time=   0.9s\n",
      "[CV] END class_weight=None, max_depth=None, max_features=log2, min_samples_leaf=2, min_samples_split=5, n_estimators=100; total time=   1.7s\n",
      "[CV] END class_weight=balanced, max_depth=20, max_features=log2, min_samples_leaf=4, min_samples_split=2, n_estimators=200; total time=   3.2s\n",
      "[CV] END class_weight=balanced, max_depth=10, max_features=log2, min_samples_leaf=2, min_samples_split=5, n_estimators=200; total time=   2.6s\n",
      "[CV] END class_weight=None, max_depth=None, max_features=sqrt, min_samples_leaf=4, min_samples_split=10, n_estimators=100; total time=   1.6s\n",
      "[CV] END class_weight=None, max_depth=20, max_features=sqrt, min_samples_leaf=2, min_samples_split=10, n_estimators=100; total time=   1.7s\n",
      "[CV] END class_weight=balanced, max_depth=20, max_features=log2, min_samples_leaf=1, min_samples_split=5, n_estimators=200; total time=   3.5s\n",
      "[CV] END class_weight=balanced, max_depth=None, max_features=sqrt, min_samples_leaf=1, min_samples_split=2, n_estimators=50; total time=   0.9s\n",
      "[CV] END class_weight=balanced, max_depth=10, max_features=log2, min_samples_leaf=1, min_samples_split=2, n_estimators=200; total time=   2.7s\n",
      "[CV] END class_weight=None, max_depth=None, max_features=log2, min_samples_leaf=2, min_samples_split=5, n_estimators=200; total time=   3.5s\n",
      "[CV] END class_weight=balanced, max_depth=None, max_features=sqrt, min_samples_leaf=1, min_samples_split=5, n_estimators=100; total time=   1.8s\n",
      "[CV] END class_weight=balanced, max_depth=10, max_features=log2, min_samples_leaf=1, min_samples_split=2, n_estimators=100; total time=   1.4s\n",
      "[CV] END class_weight=None, max_depth=10, max_features=sqrt, min_samples_leaf=1, min_samples_split=2, n_estimators=100; total time=   1.4s\n",
      "[CV] END class_weight=balanced, max_depth=20, max_features=log2, min_samples_leaf=4, min_samples_split=2, n_estimators=100; total time=   1.6s\n",
      "[CV] END class_weight=balanced, max_depth=10, max_features=log2, min_samples_leaf=2, min_samples_split=5, n_estimators=50; total time=   0.7s\n",
      "[CV] END class_weight=balanced, max_depth=10, max_features=log2, min_samples_leaf=2, min_samples_split=5, n_estimators=50; total time=   0.6s\n",
      "[CV] END class_weight=balanced, max_depth=10, max_features=sqrt, min_samples_leaf=2, min_samples_split=2, n_estimators=100; total time=   1.4s\n",
      "[CV] END class_weight=balanced, max_depth=10, max_features=sqrt, min_samples_leaf=1, min_samples_split=5, n_estimators=100; total time=   1.3s\n",
      "[CV] END class_weight=None, max_depth=10, max_features=sqrt, min_samples_leaf=2, min_samples_split=10, n_estimators=50; total time=   0.7s\n",
      "[CV] END class_weight=None, max_depth=10, max_features=sqrt, min_samples_leaf=2, min_samples_split=10, n_estimators=50; total time=   0.7s\n",
      "[CV] END class_weight=balanced, max_depth=20, max_features=log2, min_samples_leaf=1, min_samples_split=2, n_estimators=100; total time=   1.8s\n",
      "[CV] END class_weight=None, max_depth=20, max_features=sqrt, min_samples_leaf=1, min_samples_split=10, n_estimators=200; total time=   3.4s\n",
      "[CV] END class_weight=None, max_depth=None, max_features=log2, min_samples_leaf=4, min_samples_split=10, n_estimators=200; total time=   3.1s\n",
      "[CV] END class_weight=None, max_depth=20, max_features=sqrt, min_samples_leaf=4, min_samples_split=10, n_estimators=200; total time=   2.9s\n",
      "[CV] END class_weight=balanced, max_depth=None, max_features=log2, min_samples_leaf=1, min_samples_split=2, n_estimators=100; total time=   1.8s\n",
      "[CV] END class_weight=balanced, max_depth=None, max_features=sqrt, min_samples_leaf=2, min_samples_split=2, n_estimators=100; total time=   1.7s\n",
      "[CV] END class_weight=balanced, max_depth=20, max_features=sqrt, min_samples_leaf=2, min_samples_split=5, n_estimators=50; total time=   0.9s\n",
      "[CV] END class_weight=None, max_depth=None, max_features=sqrt, min_samples_leaf=1, min_samples_split=5, n_estimators=50; total time=   0.9s\n",
      "[CV] END class_weight=balanced, max_depth=20, max_features=sqrt, min_samples_leaf=1, min_samples_split=5, n_estimators=100; total time=   1.7s\n",
      "[CV] END class_weight=None, max_depth=10, max_features=sqrt, min_samples_leaf=2, min_samples_split=10, n_estimators=50; total time=   0.7s\n",
      "[CV] END class_weight=balanced, max_depth=20, max_features=sqrt, min_samples_leaf=1, min_samples_split=5, n_estimators=200; total time=   3.6s\n",
      "[CV] END class_weight=balanced, max_depth=None, max_features=log2, min_samples_leaf=1, min_samples_split=2, n_estimators=200; total time=   3.7s\n",
      "[CV] END class_weight=balanced, max_depth=10, max_features=log2, min_samples_leaf=2, min_samples_split=2, n_estimators=200; total time=   2.6s\n",
      "[CV] END class_weight=None, max_depth=10, max_features=log2, min_samples_leaf=1, min_samples_split=2, n_estimators=200; total time=   2.6s\n",
      "[CV] END class_weight=balanced, max_depth=20, max_features=log2, min_samples_leaf=2, min_samples_split=10, n_estimators=200; total time=   3.3s\n",
      "[CV] END class_weight=None, max_depth=None, max_features=log2, min_samples_leaf=2, min_samples_split=2, n_estimators=50; total time=   0.9s\n",
      "[CV] END class_weight=None, max_depth=20, max_features=sqrt, min_samples_leaf=2, min_samples_split=10, n_estimators=100; total time=   1.7s\n",
      "[CV] END class_weight=balanced, max_depth=20, max_features=log2, min_samples_leaf=1, min_samples_split=5, n_estimators=200; total time=   3.5s\n",
      "[CV] END class_weight=None, max_depth=10, max_features=log2, min_samples_leaf=2, min_samples_split=10, n_estimators=50; total time=   0.7s\n",
      "[CV] END class_weight=None, max_depth=None, max_features=sqrt, min_samples_leaf=2, min_samples_split=2, n_estimators=50; total time=   0.9s\n",
      "[CV] END class_weight=None, max_depth=None, max_features=sqrt, min_samples_leaf=1, min_samples_split=10, n_estimators=50; total time=   0.9s\n",
      "[CV] END class_weight=None, max_depth=20, max_features=sqrt, min_samples_leaf=4, min_samples_split=5, n_estimators=200; total time=   3.2s\n",
      "[CV] END class_weight=balanced, max_depth=None, max_features=log2, min_samples_leaf=4, min_samples_split=2, n_estimators=100; total time=   1.6s\n",
      "[CV] END class_weight=balanced, max_depth=None, max_features=sqrt, min_samples_leaf=1, min_samples_split=5, n_estimators=100; total time=   1.8s\n",
      "[CV] END class_weight=balanced, max_depth=10, max_features=log2, min_samples_leaf=1, min_samples_split=10, n_estimators=50; total time=   0.7s\n",
      "[CV] END class_weight=balanced, max_depth=10, max_features=log2, min_samples_leaf=1, min_samples_split=10, n_estimators=50; total time=   0.7s\n",
      "[CV] END class_weight=None, max_depth=None, max_features=log2, min_samples_leaf=2, min_samples_split=10, n_estimators=100; total time=   1.7s\n",
      "[CV] END class_weight=balanced, max_depth=10, max_features=sqrt, min_samples_leaf=1, min_samples_split=5, n_estimators=200; total time=   2.7s\n",
      "[CV] END class_weight=balanced, max_depth=None, max_features=log2, min_samples_leaf=1, min_samples_split=2, n_estimators=200; total time=   3.6s\n",
      "[CV] END class_weight=balanced, max_depth=None, max_features=log2, min_samples_leaf=4, min_samples_split=5, n_estimators=50; total time=   0.8s\n",
      "[CV] END class_weight=balanced, max_depth=None, max_features=sqrt, min_samples_leaf=2, min_samples_split=2, n_estimators=100; total time=   1.8s\n",
      "[CV] END class_weight=balanced, max_depth=20, max_features=sqrt, min_samples_leaf=1, min_samples_split=10, n_estimators=50; total time=   0.9s\n",
      "[CV] END class_weight=None, max_depth=20, max_features=log2, min_samples_leaf=4, min_samples_split=2, n_estimators=50; total time=   0.8s\n",
      "[CV] END class_weight=None, max_depth=None, max_features=log2, min_samples_leaf=4, min_samples_split=10, n_estimators=200; total time=   3.1s\n",
      "[CV] END class_weight=balanced, max_depth=None, max_features=sqrt, min_samples_leaf=4, min_samples_split=10, n_estimators=100; total time=   1.6s\n",
      "[CV] END class_weight=None, max_depth=20, max_features=sqrt, min_samples_leaf=4, min_samples_split=10, n_estimators=200; total time=   2.8s\n"
     ]
    }
   ],
   "source": [
    "X_curr = X_curr.reindex(columns=X_train.columns, fill_value=0)\n",
    "\n",
    "# Make predictions for the current season using the trained SVM model\n",
    "y_pred_svc = best_svc_model.predict(X_curr)\n",
    "\n",
    "# Compute the accuracy of the SVM model on the current season\n",
    "accuracy_svc = accuracy_score(y_curr, y_pred_svc)\n",
    "\n",
    "# Print the accuracy\n",
    "print(f\"\\nSVM Model Accuracy on Current Season: {accuracy_svc:.4f}\")\n"
   ]
  },
  {
   "cell_type": "markdown",
   "id": "3a60926f-0843-46ef-afb2-e571480806fb",
   "metadata": {},
   "source": [
    "### d) Analysis of models predicting current season\n",
    "\n",
    "All three models underperformed compared to their initial performance on the test set. Upon reflection, this is likely due to the fact that only around 30 games have been played per team so far, meaning that the first 15 games were trained on data from the previous season. This suggests the models were likely overfitted to outdated data. In hindsight, using previous season data was not the best approach. The only game that should incorporate previous season data is the first game of the current season for each team, as there is no other data available at that point.\n",
    "\n",
    "I will adjust my dataset to reflect this change and rerun the models, confident that this revision will improve their performance."
   ]
  },
  {
   "cell_type": "markdown",
   "id": "fdc34515-e5b6-4583-b67c-366392927644",
   "metadata": {},
   "source": [
    "## **5. Conclusion**:\n",
    "\n",
    "I WILL WRITE THE CONCLUSION AFTER I FIX THE ISSUES WITH THE DATA"
   ]
  },
  {
   "cell_type": "code",
   "execution_count": null,
   "id": "5399fd3e-6f59-4b1e-a4b3-bcae9b5c6c5b",
   "metadata": {},
   "outputs": [],
   "source": []
  },
  {
   "cell_type": "code",
   "execution_count": null,
   "id": "f0734911-897a-4691-8557-597f32a837df",
   "metadata": {},
   "outputs": [],
   "source": []
  },
  {
   "cell_type": "markdown",
   "id": "aad37c72-66d5-41a8-8eab-90e50cce4650",
   "metadata": {},
   "source": [
    "## **Appendix:**\n",
    "Matthew Houde PROJECT_NAME:\n",
    "https://digitalcommons.bryant.edu/cgi/viewcontent.cgi?article=1000&context=honors_data_science\n",
    "\n",
    "Josh Weiner PROJECT_NAME:\n",
    "https://towardsdatascience.com/predicting-the-outcome-of-nba-games-with-machine-learning-a810bb768f20"
   ]
  }
 ],
 "metadata": {
  "kernelspec": {
   "display_name": "Python 3 (ipykernel)",
   "language": "python",
   "name": "python3"
  },
  "language_info": {
   "codemirror_mode": {
    "name": "ipython",
    "version": 3
   },
   "file_extension": ".py",
   "mimetype": "text/x-python",
   "name": "python",
   "nbconvert_exporter": "python",
   "pygments_lexer": "ipython3",
   "version": "3.9.12"
  }
 },
 "nbformat": 4,
 "nbformat_minor": 5
}
