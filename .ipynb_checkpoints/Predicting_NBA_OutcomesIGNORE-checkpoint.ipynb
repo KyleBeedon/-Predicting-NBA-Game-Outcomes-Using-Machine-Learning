{
 "cells": [
  {
   "cell_type": "markdown",
   "id": "d24c04b0-151f-4b83-bfc6-cb337bb9ad62",
   "metadata": {},
   "source": [
    "<div style=\"text-align: center; font-size: 40px;\">\n",
    "Perdicting NBA Outcomes from Statistics\n",
    "</div>\n",
    "<div style=\"text-align: center; font-size: 30px;\">\n",
    "Kyle Beedon\n",
    "</div>"
   ]
  },
  {
   "cell_type": "markdown",
   "id": "28230bde-4590-419c-8c43-f5f6dc1281fa",
   "metadata": {},
   "source": [
    "## **Abstract**: \n",
    "What did you do, what did you find?"
   ]
  },
  {
   "cell_type": "code",
   "execution_count": 42,
   "id": "e2abb7a0-bcf7-43c1-8c50-64e702934839",
   "metadata": {},
   "outputs": [],
   "source": [
    "import pandas as pd \n",
    "import numpy as np\n",
    "import matplotlib.pyplot as plt\n",
    "\n",
    "from sklearn.model_selection import train_test_split\n",
    "from sklearn.linear_model import LogisticRegression\n",
    "from sklearn.metrics import accuracy_score, classification_report, confusion_matrix\n",
    "from sklearn.model_selection import cross_val_score, KFold\n",
    "from sklearn.feature_selection import RFE\n",
    "from sklearn.preprocessing import StandardScaler\n",
    "from sklearn.ensemble import RandomForestClassifier\n",
    "\n",
    "import statsmodels.api as sm"
   ]
  },
  {
   "cell_type": "markdown",
   "id": "2c300774-9789-4ba1-b407-b3cc1a408e59",
   "metadata": {},
   "source": [
    "## **1. Introduction**:\n",
    "The National Basketball Association (NBA) generates significant annual revenues and has a passionate fanbase. With 30 teams playing 82 games each season, fans and analysts are keen to predict game outcomes, especially for betting purposes. Various factors influence predictions, including home-court advantage, team health, recent performance, and statistical trends. An effective model that can accurately predict game winners could provide fans with an edge over the sports betting industry.\n",
    "\n",
    "Each NBA game typically has a favorite, whether it’s the home team, the team with a better record, or a team dealing with injuries. Key factors influencing predictions include recent performance, team dynamics, and player availability. However, the most crucial aspect is a team's recent statistical performance, as it can uncover trends that influence game outcomes. A model would need to be more than 60% accurate to be considered reliable, as favorites typically win 60% of the time on average.\n",
    "\n",
    "To gather data, I used Python to automate web scraping from basketball-reference.com, a reliable source offering detailed data from every NBA game since the 1940s. This data was loaded into R and manipulated using dplyr and tidyverse for efficiency. The dataset focused on recent statistics, excluding outdated data that could skew predictions, such as pre-three-point era stats. It included 10,748 games from 2016 onward, with data on every team, the game outcome, and recorded statistics.\n",
    "\n",
    "Key metrics for analysis included Offensive and Defensive Ratings, Field Goal Percentage (FG%), Three-Point Percentage (3P%), Free Throw Percentage (FT%), Turnover Percentage (Turnover %), and Offensive Rebound Percentage (ORB%). The final dataset treated each season as a fresh start, using previous game averages to predict future outcomes. For early games, season averages from the previous year were used, while later games relied on averages from the most recent n games, joined by the gameID for comparison."
   ]
  },
  {
   "cell_type": "markdown",
   "id": "8d4dc53b-2ea2-4415-be49-d47e38787fc1",
   "metadata": {},
   "source": [
    "## **2. Literature Review**:\n",
    "For this project, I will implement a train-test split for all the box scores and standardize the data. I will then train several different models, including logistic regression, random forest classifier, and support vector classifier (SVM).\n",
    "\n",
    "Logistic regression is the simplest of these models, designed to predict a binary outcome (such as win or loss) using a decision boundary at 0.5. A random forest is an ensemble of decision trees, where each tree is trained on a random subset of the data and features. This reduces overfitting by averaging the predictions of many trees, which enhances accuracy and generalization. The support vector classifier (SVM) works by finding a hyperplane that best separates the data into different classes. It is effective for high-dimensional data and can handle complex relationships by using kernel functions to transform the data into higher dimensions.\n",
    "\n",
    "These three models—logistic regression, random forest, and SVM—are particularly suitable for our data, as they can handle both linear and non-linear relationships, manage large feature spaces, and offer various ways to improve accuracy, making them versatile for predicting NBA game outcomes based on box score statistics.\n",
    "\n",
    "Once the models are trained, we will assess their efficiency using various metrics. A confusion matrix will help visualize the number of false positives, false negatives, true positives, and true negatives. This, along with standard model accuracy, will provide insight into model performance. Additionally, the matrix will allow us to evaluate other important metrics such as precision, recall, and F1 score.\n",
    "\n",
    "In examining similar projects that predict NBA outcomes, different methodologies and model accuracies have been explored, but several key approaches remain consistent.\n",
    "\n",
    "Matthew Houde’s thesis applies the CRISP-DM methodology to predict NBA game outcomes. He scrapes data from nba.com, extracting key statistics such as win percentage, field goal percentage, and advanced metrics like offensive rating and true shooting percentage. After cleaning and organizing the data, he performs exploratory data analysis (EDA) to identify influential features. Houde then engineers additional features, including team Elo rating and recent performance, and splits the dataset for training and testing. He evaluates six machine learning models (logistic regression, random forest classifier, k-nearest neighbors classifier, support vector classifier, Gaussian Naive Bayes, and XGBoost classifier) to predict game outcomes. His Gaussian Naive Bayes model achieved the highest accuracy of 65.1%. He used data from the 2018-2021 seasons and employed an Elo rating system based on the last 10 games and win percentage. All other statistics were based on teams’ averages for the season prior to each game. The Elo score started at a median of 1500 and was adjusted based on factors such as upsets and home victories.\n",
    "\n",
    "Josh Weiner scraped player and team data from Synergy Sports and combined it into two large dataframes. For feature engineering, he implemented an Elo rating similar to Houde’s, but with a distinction: not all wins were given equal weight. For instance, a win against a weaker team had less impact on the Elo rating compared to an upset or road win. He also implemented a method using stats from the last 10 games (similar to Houde’s work). Additionally, Weiner created features based on recent player performance and season-long performance, including player efficiency ratings. He used an 80:20 train-test split, applied logistic regression, and initially achieved a testing accuracy of 66.95%. After cross-validation, he implemented a random forest classifier, achieving the same initial accuracy of 66.95%. After performing a randomized search for hyperparameter tuning, his model’s accuracy improved to 67.15%.\n",
    "\n",
    "There are several algorithms to choose from, and based on past projects, we would consider any model with an accuracy above 65% as successful. Models predicting NBA outcomes with accuracy above 70% are considered exceptional, while an accuracy in the 60-65% range is generally acceptable. Now, let's dive into the methodology used in this project."
   ]
  },
  {
   "cell_type": "markdown",
   "id": "969dbe93-80b4-47ea-aac4-96fa1bfb4ad2",
   "metadata": {},
   "source": [
    "## **3. Methodology**:\n",
    "In this section, we will walk through the step-by-step process of this project, including feature selection, model building, result interpretation, and analysis.\n",
    "\n",
    "### a. Data Selection:\n",
    "Choosing the value of n was a significant consideration in this project. The parameter n defines the number of games for which all features reflect the mean statistics from the previous season. While this approach is not ideal, it becomes necessary when there aren’t enough games in the current season to assess a team’s consistent performance accurately.\n",
    "\n",
    "I experimented with different values of n, ranging from 5 to 25, and evaluated the accuracy of a logistic regression model for each. Ultimately, the value of n that yielded the best performance was 15.\n",
    "\n",
    "This means the dataset will use averages from each team’s last 15 games. For games occurring before the 15th game of the season, the features will default to the mean statistics from the previous season."
   ]
  },
  {
   "cell_type": "code",
   "execution_count": 75,
   "id": "2821ac70-38f4-4f7f-b853-d33f47870c3b",
   "metadata": {},
   "outputs": [],
   "source": [
    "box_scores = pd.read_csv(\"FINAL_boxscores_15_.csv\")"
   ]
  },
  {
   "cell_type": "code",
   "execution_count": 76,
   "id": "9a9ce199-b7ba-4e29-afa8-e8f579ae0f73",
   "metadata": {},
   "outputs": [
    {
     "name": "stdout",
     "output_type": "stream",
     "text": [
      "Index(['team.x', 'season.x', 'game_number.x', 'Date.x', 'gameId', 'outcome.x',\n",
      "       'FG%.x', 'opp_FG%.x', '3P%.x', 'opp_3P%.x', 'FT%.x', 'TOV%.x', 'ORB%.x',\n",
      "       'AST.x', 'stocks.x', 'PF.x', 'OFF_rating.x', 'DEF_rating.x',\n",
      "       'opp_TOV%.x', 'opp_ORB.x', 'count_W.x', 'back_to_back.x', 'home.x',\n",
      "       'team.y', 'game_number.y', 'outcome.y', 'FG%.y', 'opp_FG%.y', '3P%.y',\n",
      "       'opp_3P%.y', 'FT%.y', 'TOV%.y', 'ORB%.y', 'AST.y', 'stocks.y', 'PF.y',\n",
      "       'OFF_rating.y', 'DEF_rating.y', 'opp_TOV%.y', 'opp_ORB.y', 'count_W.y',\n",
      "       'back_to_back.y'],\n",
      "      dtype='object')\n"
     ]
    }
   ],
   "source": [
    "print(box_scores.columns)"
   ]
  },
  {
   "cell_type": "code",
   "execution_count": 77,
   "id": "0ae4c9de-4d7d-4cd4-8fc3-b2df14d4bd82",
   "metadata": {},
   "outputs": [],
   "source": [
    "irrelevant_columns = [\n",
    "    \"gameId\",\"team.x\", \"season.x\", \"Date.x\", \n",
    "    \"team.y\", \"game_number.y\", \"outcome.y\"\n",
    "]\n",
    "\n",
    "# Drop irrelevant columns for model building\n",
    "data = box_scores.drop(columns=irrelevant_columns)"
   ]
  },
  {
   "cell_type": "code",
   "execution_count": 78,
   "id": "9b5a0985-2c57-453b-ae76-2aac4c8d3ef9",
   "metadata": {},
   "outputs": [
    {
     "name": "stdout",
     "output_type": "stream",
     "text": [
      "   game_number.x  outcome.x  FG%.x  opp_FG%.x  3P%.x  opp_3P%.x  FT%.x  \\\n",
      "0              1          0  0.466      0.439  0.380      0.341  0.778   \n",
      "1              1          1  0.442      0.435  0.353      0.335  0.783   \n",
      "2              1          1  0.478      0.428  0.398      0.337  0.768   \n",
      "3              1          1  0.443      0.450  0.327      0.336  0.754   \n",
      "4              1          0  0.451      0.456  0.331      0.358  0.748   \n",
      "\n",
      "   TOV%.x  ORB%.x      AST.x  ...  ORB%.y      AST.y   stocks.y       PF.y  \\\n",
      "0  14.836  19.983  25.743902  ...  26.295  21.597561  12.268293  19.012195   \n",
      "1  14.417  25.263  21.719512  ...  24.959  22.121951  11.500000  18.414634   \n",
      "2  14.239  22.887  27.414634  ...  25.549  22.024390  12.963415  18.658537   \n",
      "3  13.579  22.648  24.500000  ...  24.377  20.524390  15.560976  21.682927   \n",
      "4  14.275  22.651  20.926829  ...  25.263  21.719512  12.073171  18.231707   \n",
      "\n",
      "   OFF_rating.y  DEF_rating.y  opp_TOV%.y  opp_ORB.y  count_W.y  \\\n",
      "0    102.403498    104.325267      14.392     23.632          8   \n",
      "1    107.765509    104.190073      13.750     23.733         10   \n",
      "2    105.506305    104.864671      12.831     23.475          5   \n",
      "3     93.048674    102.114841      16.840     25.134          2   \n",
      "4    104.841095    101.434323      12.332     23.991          8   \n",
      "\n",
      "   back_to_back.y  \n",
      "0               0  \n",
      "1               0  \n",
      "2               0  \n",
      "3               0  \n",
      "4               1  \n",
      "\n",
      "[5 rows x 35 columns]\n"
     ]
    }
   ],
   "source": [
    "print(data.head())\n",
    "# print(box_scores.isnull().sum())\n",
    "# There are 0 null value in this dataset"
   ]
  },
  {
   "cell_type": "markdown",
   "id": "805693a8-e121-4b41-8c7a-57205c10531d",
   "metadata": {},
   "source": [
    "Our focus is on outcome.x as the response variable, which is why we exclude outcome.y. Additionally, we drop all non-numerical features that do not contribute meaningful information. For instance, we assume that the date and season have no impact on determining the outcome of a given game. Similarly, we avoid encoding team names, as the model is designed to remain objective and blind to team identities. Instead, the emphasis is placed entirely on a team’s recent performance and, for games within the first 15 of a season, the performance from the previous season."
   ]
  },
  {
   "cell_type": "markdown",
   "id": "247908e9-d94b-4f8b-b244-7caa9c460f55",
   "metadata": {},
   "source": [
    "### b. Train-Test-Split and Standardization\n",
    "\n",
    "Next, we create the training and testing datasets using an 80/20 split. The target variable, outcome.x, is separated from the feature dataset X and stored in y. To ensure consistent scaling across all numerical features, we standardize them using the StandardScaler from sklearn.preprocessing.\n",
    "\n"
   ]
  },
  {
   "cell_type": "code",
   "execution_count": 79,
   "id": "4d706cb3-2dce-449b-b50e-4250b991e86c",
   "metadata": {},
   "outputs": [],
   "source": [
    "X = data.drop(columns=['outcome.x'])  # Features are all columns except 'outcome.X'\n",
    "\n",
    "# Remove game_number from the scaled features\n",
    "unscaled_feature = X[['game_number.x']]  # Retain it as-is\n",
    "features_to_scale = X.drop(columns=['game_number.x'])\n",
    "\n",
    "scaler = StandardScaler()\n",
    "scaled_features = scaler.fit_transform(features_to_scale)\n",
    "\n",
    "# Combine scaled features with the unscaled 'game_number.x'\n",
    "X_standardized_df = pd.DataFrame(scaled_features, columns=features_to_scale.columns)\n",
    "X_standardized_df['game_number.x'] = unscaled_feature.reset_index(drop=True)\n",
    "\n",
    "y = data['outcome.x']  # Target variable\n",
    "\n",
    "# Train-test split (80-20)\n",
    "X_train, X_test, y_train, y_test = train_test_split(X_standardized_df, y, test_size=0.2, random_state=42)"
   ]
  },
  {
   "cell_type": "markdown",
   "id": "573aa8a5-a76c-4908-ac12-bcebdb7e3b68",
   "metadata": {},
   "source": [
    "### c. Logistic regression model\n",
    "\n",
    "Now we fit a logistic regression model. We begin by applying Recursive Feature Elimination (RFE) for feature selection, identifying the most impactful features. Using the dataset with the selected features, we train the model, evaluate its performance on the test data, and analyze the results.\n",
    "\n",
    "After running the model multiple times with different values for the number of features to select, I found that selecting 11 features yielded the highest improvement in model accuracy."
   ]
  },
  {
   "cell_type": "code",
   "execution_count": 80,
   "id": "e16189a6-253d-4f4f-9650-9444da35c286",
   "metadata": {},
   "outputs": [
    {
     "data": {
      "image/png": "[encoded data removed]",
      "text/plain": [
       "<Figure size 1000x600 with 1 Axes>"
      ]
     },
     "metadata": {},
     "output_type": "display_data"
    }
   ],
   "source": [
    "# Fit logistic regression model on training data\n",
    "model = LogisticRegression(max_iter=10000)\n",
    "\n",
    "# Recursive Feature Elimination (RFE) for feature selection\n",
    "selector = RFE(model, n_features_to_select=11)  # 11 features maximizes model success\n",
    "X_train_rfe = selector.fit_transform(X_train, y_train)\n",
    "\n",
    "# Fit the model\n",
    "model.fit(X_train_rfe, y_train)\n",
    "\n",
    "# Find model coefficients for the selected features\n",
    "selected_features = X_train.columns[selector.support_]  # Get the selected features\n",
    "coefficients = pd.DataFrame(model.coef_[0], selected_features, columns=['Coefficient'])\n",
    "\n",
    "# Visualize the coefficients for the selected features\n",
    "plt.figure(figsize=(10, 6))\n",
    "coefficients['Coefficient'].sort_values().plot(kind='barh')\n",
    "plt.xlabel('Coefficient Value')\n",
    "plt.title('Feature Importance Based on Logistic Regression Coefficients (After RFE)')\n",
    "plt.show()"
   ]
  },
  {
   "cell_type": "markdown",
   "id": "82316b2d-f1ae-41ab-b2ee-f105b2b1e820",
   "metadata": {},
   "source": [
    "In this graph, we can observe the features selected by RFE. The features with the highest positive coefficients include home.x, count_w.x, off_rating.x, def_rating.y, and back_to_back.y, indicating that these factors strongly contribute to a positive prediction for the .x team. Conversely, features with the most negative coefficients include opp_3p%.y, back_to_back.x, def_rating.x, off_rating.y, and count_w.y, suggesting a negative impact on the likelihood of the .x team winning.\n",
    "\n",
    "Our target variable is outcome.x, meaning we are predicting whether the .x team will win. If the target variable were switched to outcome.y, we would expect the signs of these coefficients to flip entirely.\n",
    "\n",
    "The selected features reveal several insights: the home advantage (home.x) plays a crucial role, recent success in games (count_w) significantly influences predictions, and whether a team is rested, as indicated by the back_to_back variable, also holds importance. Additionally, the most critical statistics appear to be off_rating and def_rating, highlighting the significance of offensive and defensive efficiency in predicting game outcomes."
   ]
  },
  {
   "cell_type": "code",
   "execution_count": 81,
   "id": "b4387e6c-9822-49e9-b062-f55b1dfb51bc",
   "metadata": {},
   "outputs": [
    {
     "name": "stdout",
     "output_type": "stream",
     "text": [
      "Model Accuracy: 0.6656\n",
      "\n",
      "Confusion Matrix:\n",
      "[[700 357]\n",
      " [362 731]]\n",
      "\n",
      "Classification Report:\n",
      "              precision    recall  f1-score   support\n",
      "\n",
      "           0       0.66      0.66      0.66      1057\n",
      "           1       0.67      0.67      0.67      1093\n",
      "\n",
      "    accuracy                           0.67      2150\n",
      "   macro avg       0.67      0.67      0.67      2150\n",
      "weighted avg       0.67      0.67      0.67      2150\n",
      "\n",
      "Optimization terminated successfully.\n",
      "         Current function value: 0.628291\n",
      "         Iterations 5\n",
      "\n",
      "Statistical Summary from Statsmodels Logit with Feature Names:\n",
      "              Feature  Coeff  Std Err  z Value   P-Value  CI Lower  CI Upper\n",
      "const           const  0.013    0.023    0.571  0.567980    -0.032     0.058\n",
      "x1          opp_3P%.x  0.082    0.029    2.851  0.004364     0.026     0.139\n",
      "x2       OFF_rating.x  0.275    0.045    6.064  0.000000     0.186     0.364\n",
      "x3       DEF_rating.x -0.229    0.045   -5.055  0.000000    -0.318    -0.140\n",
      "x4          count_W.x  0.263    0.046    5.694  0.000000     0.173     0.354\n",
      "x5     back_to_back.x -0.100    0.023   -4.287  0.000018    -0.145    -0.054\n",
      "x6             home.x  0.292    0.023   12.498  0.000000     0.246     0.338\n",
      "x7          opp_3P%.y -0.108    0.028   -3.822  0.000132    -0.164    -0.053\n",
      "x8       OFF_rating.y -0.226    0.042   -5.328  0.000000    -0.309    -0.143\n",
      "x9       DEF_rating.y  0.233    0.046    5.069  0.000000     0.143     0.323\n",
      "x10         count_W.y -0.266    0.046   -5.797  0.000000    -0.356    -0.176\n",
      "x11    back_to_back.y  0.104    0.023    4.430  0.000009     0.058     0.150\n"
     ]
    },
    {
     "name": "stderr",
     "output_type": "stream",
     "text": [
      "/Users/kylebeedon/opt/anaconda3/lib/python3.9/site-packages/sklearn/base.py:486: UserWarning: X has feature names, but LogisticRegression was fitted without feature names\n",
      "  warnings.warn(\n"
     ]
    }
   ],
   "source": [
    "# Model accuracy on the test set using the selected features\n",
    "X_test_rfe = X_test[selected_features]  # Use only the selected features for testing\n",
    "y_pred = model.predict(X_test_rfe)\n",
    "accuracy = accuracy_score(y_test, y_pred)\n",
    "print(f'Model Accuracy: {accuracy:.4f}')\n",
    "\n",
    "# Confusion Matrix and Classification Report\n",
    "print(\"\\nConfusion Matrix:\")\n",
    "print(confusion_matrix(y_test, y_pred))\n",
    "\n",
    "print(\"\\nClassification Report:\")\n",
    "print(classification_report(y_test, y_pred))\n",
    "\n",
    "# Statistical Summary (using Statsmodels Logit for p-values)\n",
    "# Add constant to the features (intercept)\n",
    "X_train_const = sm.add_constant(X_train_rfe)  # Add intercept for statsmodels\n",
    "logit_model = sm.Logit(y_train, X_train_const)\n",
    "\n",
    "# Fit the model\n",
    "result = logit_model.fit()\n",
    "\n",
    "# Create a DataFrame with the coefficient values and their corresponding feature names\n",
    "feature_names = ['const'] + list(selected_features)  # Add 'const' for the intercept term\n",
    "coefficients_summary = pd.DataFrame({\n",
    "    'Feature': feature_names,\n",
    "    'Coeff': round(result.params,3),\n",
    "    'Std Err': round(result.bse,3),\n",
    "    'z Value': round(result.tvalues,3),\n",
    "    'P-Value': round(result.pvalues,6),\n",
    "    'CI Lower': round(result.conf_int()[0],3),\n",
    "    'CI Upper': round(result.conf_int()[1],3)\n",
    "})\n",
    "\n",
    "# Print the summary\n",
    "print(\"\\nStatistical Summary from Statsmodels Logit with Feature Names:\")\n",
    "print(coefficients_summary)"
   ]
  },
  {
   "cell_type": "markdown",
   "id": "a8610689-d4f7-4b48-88c6-89f484bf8252",
   "metadata": {},
   "source": [
    "**Analysis of Logistic Regression:**\n",
    "\n",
    "The model was trained on the training data and tested on the test data, achieving an overall accuracy of 66.56%, which is a solid starting point for predicting NBA game outcomes.\n",
    "\n",
    "The confusion matrix provides insight into the model's classification performance. It correctly predicted 700 wins (true positives) and 731 losses (true negatives). However, it misclassified 362 wins as losses (false negatives) and 357 losses as wins (false positives).\n",
    "\n",
    "Precision for predicting wins (label 1) is 0.67, meaning 67% of predicted wins were correct, while recall for wins is also 0.67, indicating that 67% of actual wins were identified by the model. Similarly, for losses (label 0), both precision and recall are 0.66. The F1-scores, which balance precision and recall, are 0.67 for wins and 0.66 for losses. These metrics highlight that the model performs comparably across both classes, demonstrating reliability in predicting outcomes based on the selected features, although there is room for improvement in handling closer classifications.\n",
    "\n",
    "Additionally, all p-values for the selected features were highly significant, each falling below the standard alpha threshold of 0.05. This indicates that the features used in the model were indeed relevant, contributing meaningfully to its performance. Overall, the model provides a strong foundation for future refinement and development."
   ]
  },
  {
   "cell_type": "code",
   "execution_count": null,
   "id": "a14e3c41-4d5f-4418-b997-184824684aa4",
   "metadata": {},
   "outputs": [],
   "source": []
  },
  {
   "cell_type": "markdown",
   "id": "d3c87934-54ad-4e10-9343-d9a5f48420ca",
   "metadata": {},
   "source": [
    "Moving on to the Confusion Matrix... There are 2150 total boxscores in this dataset. There were 666 true negatives (model predicts a loss and the game was lossed for the .x team), so the model correctly predicted losses 666/2150 (find percentage) times There were 402 false negatives (model predicted a loss, but the game was won) so the model incorrectly predicted losses 402/2150 times There were 395 false positives (model predicts a win, and the game was lost) so the model incorrectly predicted wins 395/2150 times. There were 687 true positives (model predicts win, and the game was won), so the model correctly predicted wins 687/2150 (find %). There doesn't appear to be any noticiable biases. Since the model just tries to pick who will win the game, it makes sense it wouldnt be biased towards picking losses or wins.\n",
    "\n"
   ]
  },
  {
   "cell_type": "code",
   "execution_count": null,
   "id": "d93ff845-1f22-4586-9e6a-82943025438d",
   "metadata": {},
   "outputs": [],
   "source": []
  },
  {
   "cell_type": "code",
   "execution_count": null,
   "id": "edb0283d-a9a0-4874-bf3a-58c2ddbd6235",
   "metadata": {},
   "outputs": [],
   "source": []
  },
  {
   "cell_type": "code",
   "execution_count": 8,
   "id": "15b22474-c34d-472f-be91-549d1459bc36",
   "metadata": {},
   "outputs": [
    {
     "name": "stdout",
     "output_type": "stream",
     "text": [
      "Model Accuracy for game_number.x < 10: 0.6568\n",
      "\n",
      "Confusion Matrix for filtered data:\n",
      "[[591 325]\n",
      " [312 628]]\n",
      "\n",
      "Classification Report for filtered data:\n",
      "              precision    recall  f1-score   support\n",
      "\n",
      "           0       0.65      0.65      0.65       916\n",
      "           1       0.66      0.67      0.66       940\n",
      "\n",
      "    accuracy                           0.66      1856\n",
      "   macro avg       0.66      0.66      0.66      1856\n",
      "weighted avg       0.66      0.66      0.66      1856\n",
      "\n"
     ]
    },
    {
     "name": "stderr",
     "output_type": "stream",
     "text": [
      "/Users/kylebeedon/opt/anaconda3/lib/python3.9/site-packages/sklearn/base.py:486: UserWarning: X has feature names, but LogisticRegression was fitted without feature names\n",
      "  warnings.warn(\n"
     ]
    }
   ],
   "source": [
    "# Filter the test data for game_number.x < 22\n",
    "X_test_filtered = X_test[X_test['game_number.x'] >= 12]\n",
    "y_test_filtered = y_test[X_test['game_number.x'] >= 12]\n",
    "\n",
    "# Select only the features that were selected by RFE (the 10 selected features)\n",
    "X_test_filtered_rfe = X_test_filtered[selected_features]\n",
    "\n",
    "# Use the trained model to predict on the filtered data\n",
    "y_pred_filtered = model.predict(X_test_filtered_rfe)\n",
    "\n",
    "# Calculate the accuracy of the model on the filtered test data\n",
    "accuracy_filtered = accuracy_score(y_test_filtered, y_pred_filtered)\n",
    "print(f'Model Accuracy for game_number.x < 10: {accuracy_filtered:.4f}')\n",
    "\n",
    "# Optionally, print confusion matrix and classification report for the filtered data\n",
    "print(\"\\nConfusion Matrix for filtered data:\")\n",
    "print(confusion_matrix(y_test_filtered, y_pred_filtered))\n",
    "\n",
    "print(\"\\nClassification Report for filtered data:\")\n",
    "print(classification_report(y_test_filtered, y_pred_filtered))"
   ]
  },
  {
   "cell_type": "code",
   "execution_count": 9,
   "id": "2e7b119d-fff3-4fa3-abee-81b7fc4c8adf",
   "metadata": {},
   "outputs": [
    {
     "ename": "SyntaxError",
     "evalue": "invalid syntax (203267096.py, line 1)",
     "output_type": "error",
     "traceback": [
      "\u001b[0;36m  Cell \u001b[0;32mIn[9], line 1\u001b[0;36m\u001b[0m\n\u001b[0;31m    EXPLAIN YOURSELF -->\u001b[0m\n\u001b[0m            ^\u001b[0m\n\u001b[0;31mSyntaxError\u001b[0m\u001b[0;31m:\u001b[0m invalid syntax\n"
     ]
    }
   ],
   "source": [
    "EXPLAIN YOURSELF --> "
   ]
  },
  {
   "cell_type": "markdown",
   "id": "59825aa0-edaf-4abe-be9e-96c7ea80c3d0",
   "metadata": {},
   "source": [
    "Initial model accuracy of 0.636\n",
    "\n",
    "\n",
    "IDK About any of this: !!!!\n",
    "After running a simple logistic regression model with all of the features, we achieved an accuracy of 0.6274, which is a reasonable starting point. It is better than just picking the home team every time. We will look to improve this accuracy. I decided to use a train-test split as opposed to k-fold. I ran this, but got essentially the same accuracy, since it didn't improve the model, I used train-test because it is simpler.\n",
    "\n",
    "Moving on to the Confusion Matrix... There are 2150 total boxscores in this dataset. There were 666 true negatives (model predicts a loss and the game was lossed for the .x team), so the model correctly predicted losses 666/2150 (find percentage) times\n",
    "There were 402 false negatives (model predicted a loss, but the game was won) so the model incorrectly predicted losses 402/2150 times\n",
    "There were 395 false positives (model predicts a win, and the game was lost) so the model incorrectly predicted wins 395/2150 times. There were 687 true positives (model predicts win, and the game was won), so the model correctly predicted wins 687/2150 (find %). There doesn't appear to be any noticiable biases. Since the model just tries to pick who will win the game, it makes sense it wouldnt be biased towards picking losses or wins.\n",
    "\n",
    "It is interesting to look at the graphic interpretation of the features importance in the model. Some of the features don't seem to be statisitcally relevant, and others seem to have coefficients that don't make a lot of sense. It is in our best interest to implement feature selection."
   ]
  },
  {
   "cell_type": "markdown",
   "id": "3ed08d3c-17e4-4468-9822-2a4fa162800e",
   "metadata": {},
   "source": [
    "### d. Random Forest\n",
    "After achieving some success with the logistic regression model, we next implement a RandomForestClassifier to explore whether we can improve model accuracy or achieve comparable results. This model will utilize 100 trees within the forest, with the top 11 features selected through RFE. The model will be trained on the training data and evaluated on the test data. Following this, we will analyze feature importance and compare model accuracies to gain further insights."
   ]
  },
  {
   "cell_type": "code",
   "execution_count": 83,
   "id": "b971db8b-6056-4f47-8bda-59a413574ff4",
   "metadata": {},
   "outputs": [
    {
     "data": {
      "text/plain": [
       "<Figure size 1000x600 with 0 Axes>"
      ]
     },
     "metadata": {},
     "output_type": "display_data"
    },
    {
     "data": {
      "image/png": "[encoded data removed]",
      "text/plain": [
       "<Figure size 640x480 with 1 Axes>"
      ]
     },
     "metadata": {},
     "output_type": "display_data"
    },
    {
     "name": "stdout",
     "output_type": "stream",
     "text": [
      "Model Accuracy: 0.6135\n",
      "\n",
      "Confusion Matrix:\n",
      "[[643 414]\n",
      " [417 676]]\n",
      "\n",
      "Classification Report:\n",
      "              precision    recall  f1-score   support\n",
      "\n",
      "           0       0.61      0.61      0.61      1057\n",
      "           1       0.62      0.62      0.62      1093\n",
      "\n",
      "    accuracy                           0.61      2150\n",
      "   macro avg       0.61      0.61      0.61      2150\n",
      "weighted avg       0.61      0.61      0.61      2150\n",
      "\n"
     ]
    },
    {
     "name": "stderr",
     "output_type": "stream",
     "text": [
      "/Users/kylebeedon/opt/anaconda3/lib/python3.9/site-packages/sklearn/base.py:486: UserWarning: X has feature names, but RandomForestClassifier was fitted without feature names\n",
      "  warnings.warn(\n"
     ]
    }
   ],
   "source": [
    "# Remove game_number.x and game_number.y from training and testing data, they should not impact the model.\n",
    "X_train = X_train.drop(columns=['game_number.x', 'game_number.y'], errors='ignore')\n",
    "X_test = X_test.drop(columns=['game_number.x', 'game_number.y'], errors='ignore')\n",
    "\n",
    "# Initialize Random Forest model\n",
    "rf_model = RandomForestClassifier(n_estimators=100, random_state=42)\n",
    "\n",
    "# Recursive Feature Elimination (RFE) for feature selection\n",
    "selector = RFE(rf_model, n_features_to_select=11)  # Select top 11 features (same as log reg)\n",
    "X_train_rfe = selector.fit_transform(X_train, y_train)\n",
    "\n",
    "# Train the Random Forest model using the selected features\n",
    "rf_model.fit(X_train_rfe, y_train)\n",
    "\n",
    "# Get the selected features\n",
    "selected_features = X_train.columns[selector.support_]\n",
    "\n",
    "# Feature importance from the Random Forest model\n",
    "importances = pd.DataFrame(rf_model.feature_importances_, selected_features, columns=['Importance'])\n",
    "\n",
    "# Visualize the feature importances\n",
    "plt.figure(figsize=(10, 6))\n",
    "importances.sort_values('Importance').plot(kind='barh')\n",
    "plt.xlabel('Feature Importance')\n",
    "plt.title('Feature Importance Based on Random Forest Model')\n",
    "plt.show()\n",
    "\n",
    "# Model accuracy on the test set using the selected features\n",
    "X_test_rfe = X_test[selected_features]  # Use only the selected features for testing\n",
    "y_pred = rf_model.predict(X_test_rfe)\n",
    "accuracy = accuracy_score(y_test, y_pred)\n",
    "print(f'Model Accuracy: {accuracy:.4f}')\n",
    "\n",
    "# Confusion Matrix and Classification Report\n",
    "print(\"\\nConfusion Matrix:\")\n",
    "print(confusion_matrix(y_test, y_pred))\n",
    "print(\"\\nClassification Report:\")\n",
    "print(classification_report(y_test, y_pred))"
   ]
  },
  {
   "cell_type": "code",
   "execution_count": null,
   "id": "352b180c-8f37-48ee-92c4-e8f69a7b6541",
   "metadata": {},
   "outputs": [],
   "source": [
    "# Gradient Boosting Machines (GBM): These models, such as XGBoost or LightGBM, often outperform logistic regression for classification tasks.\n",
    "# XGBoost XGBoost XGBoost XGBoost XGBoost XGBoost"
   ]
  },
  {
   "cell_type": "code",
   "execution_count": null,
   "id": "28b896af-369f-424c-bae9-a240cd8af510",
   "metadata": {},
   "outputs": [],
   "source": []
  },
  {
   "cell_type": "code",
   "execution_count": null,
   "id": "bb10c077-8181-4885-9bd3-340f75e1fa6e",
   "metadata": {},
   "outputs": [],
   "source": []
  },
  {
   "cell_type": "code",
   "execution_count": null,
   "id": "67ecb0b5-cb0e-413a-9df8-0c04c44f1d3d",
   "metadata": {},
   "outputs": [],
   "source": []
  },
  {
   "cell_type": "code",
   "execution_count": null,
   "id": "745c9d26-f4d0-4a44-b9ab-afa7265034ff",
   "metadata": {},
   "outputs": [],
   "source": []
  },
  {
   "cell_type": "markdown",
   "id": "aad37c72-66d5-41a8-8eab-90e50cce4650",
   "metadata": {},
   "source": [
    "## **Appendix:**\n",
    "Matthew Houde PROJECT_NAME:\n",
    "https://digitalcommons.bryant.edu/cgi/viewcontent.cgi?article=1000&context=honors_data_science\n",
    "\n",
    "Josh Weiner PROJECT_NAME:\n",
    "https://towardsdatascience.com/predicting-the-outcome-of-nba-games-with-machine-learning-a810bb768f20"
   ]
  },
  {
   "cell_type": "code",
   "execution_count": null,
   "id": "497c73a7-0113-4101-92de-f763de2e05a0",
   "metadata": {},
   "outputs": [],
   "source": []
  }
 ],
 "metadata": {
  "kernelspec": {
   "display_name": "Python 3 (ipykernel)",
   "language": "python",
   "name": "python3"
  },
  "language_info": {
   "codemirror_mode": {
    "name": "ipython",
    "version": 3
   },
   "file_extension": ".py",
   "mimetype": "text/x-python",
   "name": "python",
   "nbconvert_exporter": "python",
   "pygments_lexer": "ipython3",
   "version": "3.9.12"
  }
 },
 "nbformat": 4,
 "nbformat_minor": 5
}
